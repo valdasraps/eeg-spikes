{
 "cells": [
  {
   "cell_type": "code",
   "execution_count": 38,
   "metadata": {},
   "outputs": [],
   "source": [
    "import numpy as np\n",
    "\n",
    "from sklearn.model_selection import train_test_split\n",
    "import matplotlib.pyplot as plt\n",
    "from sklearn.utils import shuffle\n",
    "from sklearn.preprocessing import StandardScaler\n",
    "from sklearn.metrics import accuracy_score, confusion_matrix, f1_score, roc_auc_score, roc_curve, precision_recall_curve\n",
    "\n",
    "import tensorflow as tf\n",
    "from keras.models import Sequential, load_model\n",
    "from keras.layers import Dense, Dropout, Activation, Flatten, Conv2D, MaxPooling1D, MaxPooling2D, LeakyReLU\n",
    "from keras.initializers import RandomNormal\n",
    "import keras.optimizers as opt\n",
    "from keras.callbacks import TensorBoard\n",
    "from keras.utils import plot_model\n",
    "from keras.regularizers import l2"
   ]
  },
  {
   "cell_type": "code",
   "execution_count": 2,
   "metadata": {},
   "outputs": [
    {
     "name": "stdout",
     "output_type": "stream",
     "text": [
      "data = (1845, 21, 77)\n",
      "meta = (1845, 3)\n"
     ]
    }
   ],
   "source": [
    "data = np.load('../data/data.npy')\n",
    "meta = np.load('../data/meta.npy')\n",
    "print(f'data = {data.shape}')\n",
    "print(f'meta = {meta.shape}')"
   ]
  },
  {
   "cell_type": "code",
   "execution_count": 4,
   "metadata": {},
   "outputs": [],
   "source": [
    "X = data[:,:,:,np.newaxis]\n",
    "Y = meta[:,2][:,np.newaxis].astype(int)"
   ]
  },
  {
   "cell_type": "code",
   "execution_count": 5,
   "metadata": {},
   "outputs": [],
   "source": [
    "shape = X.shape\n",
    "std = StandardScaler().fit(X.reshape(-1,1))\n",
    "X = std.transform(X.reshape(-1,1)).reshape(shape)"
   ]
  },
  {
   "cell_type": "code",
   "execution_count": 6,
   "metadata": {},
   "outputs": [],
   "source": [
    "X,Y = shuffle(X,Y)"
   ]
  },
  {
   "cell_type": "code",
   "execution_count": 13,
   "metadata": {},
   "outputs": [],
   "source": [
    "x_train, x_test,  y_train, y_test  = train_test_split(X, Y, test_size = 0.2, random_state = 31)\n",
    "x_train, x_valid, y_train, y_valid = train_test_split(x_train, y_train, test_size = 0.25, random_state = 31)"
   ]
  },
  {
   "cell_type": "code",
   "execution_count": 14,
   "metadata": {},
   "outputs": [
    {
     "name": "stdout",
     "output_type": "stream",
     "text": [
      "train: x=(1107, 21, 77, 1) y=(1107, 1)\n",
      "valid: x=(369, 21, 77, 1) y=(369, 1)\n",
      "test : x=(369, 21, 77, 1)  y=(369, 1)\n"
     ]
    }
   ],
   "source": [
    "print(f\"train: x={x_train.shape} y={y_train.shape}\")\n",
    "print(f\"valid: x={x_valid.shape} y={y_valid.shape}\")\n",
    "print(f\"test : x={x_test.shape}  y={y_test.shape}\")"
   ]
  },
  {
   "cell_type": "code",
   "execution_count": 15,
   "metadata": {},
   "outputs": [
    {
     "name": "stdout",
     "output_type": "stream",
     "text": [
      "cnn_input  = (21, 77, 1)\n",
      "cnn_output = 1\n",
      "batch_size = 32\n"
     ]
    }
   ],
   "source": [
    "cnn_input = X.shape[1:]\n",
    "cnn_output = Y.shape[1]\n",
    "batch_size = 32\n",
    "\n",
    "print(f\"cnn_input  = {cnn_input}\")\n",
    "print(f\"cnn_output = {cnn_output}\")\n",
    "print(f\"batch_size = {batch_size}\")"
   ]
  },
  {
   "cell_type": "code",
   "execution_count": 52,
   "metadata": {},
   "outputs": [],
   "source": [
    "model = Sequential()\n",
    "\n",
    "model.add(Conv2D(16, (7,7), activation = 'tanh', name = 'conv1', input_shape = cnn_input, \n",
    "                 kernel_regularizer=l2(0.005)))\n",
    "model.add(MaxPooling2D(pool_size=(2,2), strides=(1,1), name='maxpool1'))\n",
    "\n",
    "model.add(Conv2D(32, (5,5), activation='tanh', name='conv2'))\n",
    "model.add(MaxPooling2D(pool_size=(2,2), strides=(1,1), name='maxpool2'))\n",
    "\n",
    "model.add(Conv2D(64, (3,3), activation='tanh', name='conv3'))\n",
    "model.add(MaxPooling2D(pool_size=(2,2), name='maxpool3'))\n",
    "\n",
    "model.add(Flatten(name='flat4'))\n",
    "#model.add(Dropout(0.5, name='drop4'))\n",
    "model.add(Dense(1024, activation='tanh', name='dense4'))\n",
    "\n",
    "model.add(Dense(cnn_output, activation='sigmoid', name='softmax'))"
   ]
  },
  {
   "cell_type": "code",
   "execution_count": 53,
   "metadata": {},
   "outputs": [
    {
     "name": "stdout",
     "output_type": "stream",
     "text": [
      "_________________________________________________________________\n",
      "Layer (type)                 Output Shape              Param #   \n",
      "=================================================================\n",
      "conv1 (Conv2D)               (None, 15, 71, 16)        800       \n",
      "_________________________________________________________________\n",
      "maxpool1 (MaxPooling2D)      (None, 14, 70, 16)        0         \n",
      "_________________________________________________________________\n",
      "conv2 (Conv2D)               (None, 10, 66, 32)        12832     \n",
      "_________________________________________________________________\n",
      "maxpool2 (MaxPooling2D)      (None, 9, 65, 32)         0         \n",
      "_________________________________________________________________\n",
      "conv3 (Conv2D)               (None, 7, 63, 64)         18496     \n",
      "_________________________________________________________________\n",
      "maxpool3 (MaxPooling2D)      (None, 3, 31, 64)         0         \n",
      "_________________________________________________________________\n",
      "flat4 (Flatten)              (None, 5952)              0         \n",
      "_________________________________________________________________\n",
      "dense4 (Dense)               (None, 1024)              6095872   \n",
      "_________________________________________________________________\n",
      "softmax (Dense)              (None, 1)                 1025      \n",
      "=================================================================\n",
      "Total params: 6,129,025\n",
      "Trainable params: 6,129,025\n",
      "Non-trainable params: 0\n",
      "_________________________________________________________________\n"
     ]
    }
   ],
   "source": [
    "model.summary()"
   ]
  },
  {
   "cell_type": "code",
   "execution_count": 54,
   "metadata": {},
   "outputs": [],
   "source": [
    "optim = opt.SGD(lr = 0.001, decay = 1e-6, momentum = 0.5, nesterov=True)\n",
    "model.compile(loss='binary_crossentropy', optimizer=optim, metrics=['accuracy'])"
   ]
  },
  {
   "cell_type": "code",
   "execution_count": 65,
   "metadata": {
    "scrolled": true
   },
   "outputs": [
    {
     "name": "stdout",
     "output_type": "stream",
     "text": [
      "Train on 1107 samples, validate on 369 samples\n",
      "Epoch 1/100\n",
      " - 0s - loss: 0.0637 - acc: 0.9946 - val_loss: 0.1938 - val_acc: 0.9377\n",
      "Epoch 2/100\n",
      " - 0s - loss: 0.0619 - acc: 0.9937 - val_loss: 0.1846 - val_acc: 0.9458\n",
      "Epoch 3/100\n",
      " - 0s - loss: 0.0620 - acc: 0.9946 - val_loss: 0.1976 - val_acc: 0.9431\n",
      "Epoch 4/100\n",
      " - 0s - loss: 0.0620 - acc: 0.9937 - val_loss: 0.1894 - val_acc: 0.9404\n",
      "Epoch 5/100\n",
      " - 0s - loss: 0.0614 - acc: 0.9919 - val_loss: 0.1859 - val_acc: 0.9404\n",
      "Epoch 6/100\n",
      " - 0s - loss: 0.0619 - acc: 0.9919 - val_loss: 0.1837 - val_acc: 0.9458\n",
      "Epoch 7/100\n",
      " - 0s - loss: 0.0606 - acc: 0.9946 - val_loss: 0.2038 - val_acc: 0.9431\n",
      "Epoch 8/100\n",
      " - 0s - loss: 0.0602 - acc: 0.9946 - val_loss: 0.2030 - val_acc: 0.9485\n",
      "Epoch 9/100\n",
      " - 0s - loss: 0.0599 - acc: 0.9937 - val_loss: 0.1927 - val_acc: 0.9458\n",
      "Epoch 10/100\n",
      " - 0s - loss: 0.0593 - acc: 0.9937 - val_loss: 0.1901 - val_acc: 0.9458\n",
      "Epoch 11/100\n",
      " - 0s - loss: 0.0583 - acc: 0.9964 - val_loss: 0.1910 - val_acc: 0.9431\n",
      "Epoch 12/100\n",
      " - 0s - loss: 0.0575 - acc: 0.9955 - val_loss: 0.1984 - val_acc: 0.9431\n",
      "Epoch 13/100\n",
      " - 0s - loss: 0.0572 - acc: 0.9919 - val_loss: 0.1987 - val_acc: 0.9485\n",
      "Epoch 14/100\n",
      " - 0s - loss: 0.0570 - acc: 0.9955 - val_loss: 0.1993 - val_acc: 0.9512\n",
      "Epoch 15/100\n",
      " - 0s - loss: 0.0565 - acc: 0.9946 - val_loss: 0.1867 - val_acc: 0.9458\n",
      "Epoch 16/100\n",
      " - 0s - loss: 0.0558 - acc: 0.9937 - val_loss: 0.1894 - val_acc: 0.9485\n",
      "Epoch 17/100\n",
      " - 0s - loss: 0.0557 - acc: 0.9946 - val_loss: 0.1899 - val_acc: 0.9431\n",
      "Epoch 18/100\n",
      " - 0s - loss: 0.0557 - acc: 0.9946 - val_loss: 0.1987 - val_acc: 0.9404\n",
      "Epoch 19/100\n",
      " - 0s - loss: 0.0550 - acc: 0.9946 - val_loss: 0.2036 - val_acc: 0.9431\n",
      "Epoch 20/100\n",
      " - 0s - loss: 0.0541 - acc: 0.9955 - val_loss: 0.2067 - val_acc: 0.9458\n",
      "Epoch 21/100\n",
      " - 0s - loss: 0.0541 - acc: 0.9946 - val_loss: 0.1862 - val_acc: 0.9458\n",
      "Epoch 22/100\n",
      " - 0s - loss: 0.0536 - acc: 0.9946 - val_loss: 0.1876 - val_acc: 0.9458\n",
      "Epoch 23/100\n",
      " - 0s - loss: 0.0528 - acc: 0.9955 - val_loss: 0.1975 - val_acc: 0.9404\n",
      "Epoch 24/100\n",
      " - 0s - loss: 0.0520 - acc: 0.9946 - val_loss: 0.1924 - val_acc: 0.9431\n",
      "Epoch 25/100\n",
      " - 0s - loss: 0.0525 - acc: 0.9955 - val_loss: 0.1952 - val_acc: 0.9431\n",
      "Epoch 26/100\n",
      " - 0s - loss: 0.0523 - acc: 0.9937 - val_loss: 0.1890 - val_acc: 0.9485\n",
      "Epoch 27/100\n",
      " - 0s - loss: 0.0513 - acc: 0.9955 - val_loss: 0.1975 - val_acc: 0.9431\n",
      "Epoch 28/100\n",
      " - 0s - loss: 0.0504 - acc: 0.9946 - val_loss: 0.1930 - val_acc: 0.9458\n",
      "Epoch 29/100\n",
      " - 0s - loss: 0.0508 - acc: 0.9973 - val_loss: 0.1941 - val_acc: 0.9404\n",
      "Epoch 30/100\n",
      " - 0s - loss: 0.0495 - acc: 0.9964 - val_loss: 0.1975 - val_acc: 0.9431\n",
      "Epoch 31/100\n",
      " - 0s - loss: 0.0490 - acc: 0.9964 - val_loss: 0.2074 - val_acc: 0.9404\n",
      "Epoch 32/100\n",
      " - 0s - loss: 0.0501 - acc: 0.9955 - val_loss: 0.1925 - val_acc: 0.9458\n",
      "Epoch 33/100\n",
      " - 0s - loss: 0.0496 - acc: 0.9964 - val_loss: 0.1992 - val_acc: 0.9512\n",
      "Epoch 34/100\n",
      " - 0s - loss: 0.0484 - acc: 0.9973 - val_loss: 0.2059 - val_acc: 0.9431\n",
      "Epoch 35/100\n",
      " - 0s - loss: 0.0480 - acc: 0.9946 - val_loss: 0.1865 - val_acc: 0.9431\n",
      "Epoch 36/100\n",
      " - 0s - loss: 0.0468 - acc: 0.9964 - val_loss: 0.2000 - val_acc: 0.9431\n",
      "Epoch 37/100\n",
      " - 0s - loss: 0.0470 - acc: 0.9964 - val_loss: 0.2084 - val_acc: 0.9458\n",
      "Epoch 38/100\n",
      " - 0s - loss: 0.0476 - acc: 0.9964 - val_loss: 0.1928 - val_acc: 0.9431\n",
      "Epoch 39/100\n",
      " - 0s - loss: 0.0455 - acc: 0.9973 - val_loss: 0.2022 - val_acc: 0.9431\n",
      "Epoch 40/100\n",
      " - 0s - loss: 0.0460 - acc: 0.9955 - val_loss: 0.1948 - val_acc: 0.9458\n",
      "Epoch 41/100\n",
      " - 0s - loss: 0.0446 - acc: 0.9973 - val_loss: 0.2115 - val_acc: 0.9431\n",
      "Epoch 42/100\n",
      " - 0s - loss: 0.0453 - acc: 0.9955 - val_loss: 0.1999 - val_acc: 0.9431\n",
      "Epoch 43/100\n",
      " - 0s - loss: 0.0445 - acc: 0.9964 - val_loss: 0.2039 - val_acc: 0.9458\n",
      "Epoch 44/100\n",
      " - 0s - loss: 0.0443 - acc: 0.9973 - val_loss: 0.2111 - val_acc: 0.9431\n",
      "Epoch 45/100\n",
      " - 0s - loss: 0.0439 - acc: 0.9964 - val_loss: 0.2024 - val_acc: 0.9458\n",
      "Epoch 46/100\n",
      " - 0s - loss: 0.0441 - acc: 0.9964 - val_loss: 0.2173 - val_acc: 0.9458\n",
      "Epoch 47/100\n",
      " - 0s - loss: 0.0428 - acc: 0.9982 - val_loss: 0.2005 - val_acc: 0.9485\n",
      "Epoch 48/100\n",
      " - 0s - loss: 0.0428 - acc: 0.9964 - val_loss: 0.1911 - val_acc: 0.9458\n",
      "Epoch 49/100\n",
      " - 0s - loss: 0.0428 - acc: 0.9964 - val_loss: 0.2095 - val_acc: 0.9458\n",
      "Epoch 50/100\n",
      " - 0s - loss: 0.0418 - acc: 0.9982 - val_loss: 0.2022 - val_acc: 0.9350\n",
      "Epoch 51/100\n",
      " - 0s - loss: 0.0424 - acc: 0.9973 - val_loss: 0.2065 - val_acc: 0.9431\n",
      "Epoch 52/100\n",
      " - 0s - loss: 0.0417 - acc: 0.9982 - val_loss: 0.1914 - val_acc: 0.9431\n",
      "Epoch 53/100\n",
      " - 0s - loss: 0.0408 - acc: 0.9982 - val_loss: 0.2042 - val_acc: 0.9458\n",
      "Epoch 54/100\n",
      " - 0s - loss: 0.0410 - acc: 0.9982 - val_loss: 0.2086 - val_acc: 0.9431\n",
      "Epoch 55/100\n",
      " - 0s - loss: 0.0402 - acc: 0.9982 - val_loss: 0.2040 - val_acc: 0.9431\n",
      "Epoch 56/100\n",
      " - 0s - loss: 0.0402 - acc: 0.9982 - val_loss: 0.2011 - val_acc: 0.9485\n",
      "Epoch 57/100\n",
      " - 0s - loss: 0.0404 - acc: 0.9964 - val_loss: 0.1993 - val_acc: 0.9458\n",
      "Epoch 58/100\n",
      " - 0s - loss: 0.0396 - acc: 0.9982 - val_loss: 0.2052 - val_acc: 0.9431\n",
      "Epoch 59/100\n",
      " - 0s - loss: 0.0392 - acc: 0.9973 - val_loss: 0.2090 - val_acc: 0.9458\n",
      "Epoch 60/100\n",
      " - 0s - loss: 0.0386 - acc: 0.9991 - val_loss: 0.2026 - val_acc: 0.9431\n",
      "Epoch 61/100\n",
      " - 0s - loss: 0.0385 - acc: 0.9973 - val_loss: 0.2041 - val_acc: 0.9485\n",
      "Epoch 62/100\n",
      " - 0s - loss: 0.0382 - acc: 0.9973 - val_loss: 0.2109 - val_acc: 0.9404\n",
      "Epoch 63/100\n",
      " - 0s - loss: 0.0385 - acc: 0.9964 - val_loss: 0.2102 - val_acc: 0.9458\n",
      "Epoch 64/100\n",
      " - 0s - loss: 0.0376 - acc: 0.9982 - val_loss: 0.2073 - val_acc: 0.9485\n",
      "Epoch 65/100\n",
      " - 0s - loss: 0.0374 - acc: 0.9982 - val_loss: 0.2057 - val_acc: 0.9458\n",
      "Epoch 66/100\n",
      " - 0s - loss: 0.0377 - acc: 0.9982 - val_loss: 0.2174 - val_acc: 0.9458\n",
      "Epoch 67/100\n",
      " - 0s - loss: 0.0370 - acc: 0.9991 - val_loss: 0.2170 - val_acc: 0.9458\n",
      "Epoch 68/100\n",
      " - 0s - loss: 0.0367 - acc: 0.9991 - val_loss: 0.2113 - val_acc: 0.9377\n",
      "Epoch 69/100\n",
      " - 0s - loss: 0.0368 - acc: 0.9982 - val_loss: 0.2097 - val_acc: 0.9458\n",
      "Epoch 70/100\n",
      " - 0s - loss: 0.0363 - acc: 0.9991 - val_loss: 0.2102 - val_acc: 0.9485\n",
      "Epoch 71/100\n",
      " - 0s - loss: 0.0363 - acc: 0.9991 - val_loss: 0.2125 - val_acc: 0.9431\n",
      "Epoch 72/100\n",
      " - 0s - loss: 0.0359 - acc: 0.9991 - val_loss: 0.2082 - val_acc: 0.9458\n",
      "Epoch 73/100\n",
      " - 0s - loss: 0.0353 - acc: 1.0000 - val_loss: 0.2152 - val_acc: 0.9377\n",
      "Epoch 74/100\n",
      " - 0s - loss: 0.0359 - acc: 0.9991 - val_loss: 0.2124 - val_acc: 0.9458\n",
      "Epoch 75/100\n",
      " - 0s - loss: 0.0352 - acc: 1.0000 - val_loss: 0.2147 - val_acc: 0.9485\n",
      "Epoch 76/100\n",
      " - 0s - loss: 0.0349 - acc: 0.9991 - val_loss: 0.2123 - val_acc: 0.9485\n",
      "Epoch 77/100\n",
      " - 0s - loss: 0.0349 - acc: 1.0000 - val_loss: 0.2145 - val_acc: 0.9431\n",
      "Epoch 78/100\n",
      " - 0s - loss: 0.0346 - acc: 1.0000 - val_loss: 0.2256 - val_acc: 0.9458\n",
      "Epoch 79/100\n",
      " - 0s - loss: 0.0347 - acc: 1.0000 - val_loss: 0.2108 - val_acc: 0.9431\n",
      "Epoch 80/100\n",
      " - 0s - loss: 0.0340 - acc: 1.0000 - val_loss: 0.2122 - val_acc: 0.9431\n",
      "Epoch 81/100\n",
      " - 0s - loss: 0.0340 - acc: 1.0000 - val_loss: 0.2206 - val_acc: 0.9458\n",
      "Epoch 82/100\n",
      " - 0s - loss: 0.0344 - acc: 0.9991 - val_loss: 0.2122 - val_acc: 0.9485\n",
      "Epoch 83/100\n",
      " - 0s - loss: 0.0337 - acc: 1.0000 - val_loss: 0.2167 - val_acc: 0.9431\n",
      "Epoch 84/100\n",
      " - 0s - loss: 0.0334 - acc: 1.0000 - val_loss: 0.2217 - val_acc: 0.9485\n",
      "Epoch 85/100\n",
      " - 0s - loss: 0.0331 - acc: 1.0000 - val_loss: 0.2132 - val_acc: 0.9458\n",
      "Epoch 86/100\n",
      " - 0s - loss: 0.0331 - acc: 1.0000 - val_loss: 0.2046 - val_acc: 0.9431\n",
      "Epoch 87/100\n",
      " - 0s - loss: 0.0328 - acc: 1.0000 - val_loss: 0.2179 - val_acc: 0.9458\n",
      "Epoch 88/100\n",
      " - 0s - loss: 0.0328 - acc: 1.0000 - val_loss: 0.2218 - val_acc: 0.9458\n",
      "Epoch 89/100\n",
      " - 0s - loss: 0.0323 - acc: 1.0000 - val_loss: 0.2094 - val_acc: 0.9431\n",
      "Epoch 90/100\n",
      " - 0s - loss: 0.0322 - acc: 1.0000 - val_loss: 0.2246 - val_acc: 0.9431\n",
      "Epoch 91/100\n",
      " - 0s - loss: 0.0318 - acc: 1.0000 - val_loss: 0.2118 - val_acc: 0.9485\n",
      "Epoch 92/100\n",
      " - 0s - loss: 0.0315 - acc: 1.0000 - val_loss: 0.2066 - val_acc: 0.9485\n",
      "Epoch 93/100\n",
      " - 0s - loss: 0.0317 - acc: 1.0000 - val_loss: 0.2104 - val_acc: 0.9458\n",
      "Epoch 94/100\n",
      " - 0s - loss: 0.0315 - acc: 1.0000 - val_loss: 0.2112 - val_acc: 0.9458\n",
      "Epoch 95/100\n",
      " - 0s - loss: 0.0316 - acc: 1.0000 - val_loss: 0.2135 - val_acc: 0.9431\n",
      "Epoch 96/100\n",
      " - 0s - loss: 0.0314 - acc: 1.0000 - val_loss: 0.2148 - val_acc: 0.9458\n"
     ]
    },
    {
     "name": "stdout",
     "output_type": "stream",
     "text": [
      "Epoch 97/100\n",
      " - 0s - loss: 0.0308 - acc: 1.0000 - val_loss: 0.2169 - val_acc: 0.9485\n",
      "Epoch 98/100\n",
      " - 0s - loss: 0.0311 - acc: 1.0000 - val_loss: 0.2202 - val_acc: 0.9485\n",
      "Epoch 99/100\n",
      " - 0s - loss: 0.0310 - acc: 1.0000 - val_loss: 0.2167 - val_acc: 0.9485\n",
      "Epoch 100/100\n",
      " - 0s - loss: 0.0305 - acc: 1.0000 - val_loss: 0.2160 - val_acc: 0.9485\n"
     ]
    }
   ],
   "source": [
    "log = model.fit(x_train, y_train, batch_size = batch_size, epochs = 100, \n",
    "          verbose = 2, validation_data=(x_valid, y_valid))"
   ]
  },
  {
   "cell_type": "code",
   "execution_count": 66,
   "metadata": {},
   "outputs": [
    {
     "name": "stdout",
     "output_type": "stream",
     "text": [
      "369/369 [==============================] - 0s 68us/step\n",
      "Testing:\n",
      "loss = 0.2667440016095231\n",
      "acc = 0.9322493229778155\n"
     ]
    }
   ],
   "source": [
    "result = model.evaluate(x_test, y_test)\n",
    "print('Testing:')\n",
    "print('\\n'.join('{} = {}'.format(*k) for k in zip(model.metrics_names, result)))"
   ]
  },
  {
   "cell_type": "code",
   "execution_count": 67,
   "metadata": {},
   "outputs": [
    {
     "data": {
      "image/png": "[encoded data removed]",
      "text/plain": [
       "<Figure size 1080x576 with 2 Axes>"
      ]
     },
     "metadata": {},
     "output_type": "display_data"
    }
   ],
   "source": [
    "plt.rcParams['figure.figsize'] = (15, 8)\n",
    "\n",
    "plt.plot(log.history['acc'], label = 'mokymo')\n",
    "plt.plot(log.history['val_acc'], label = 'validavimo')\n",
    "plt.ylabel('tikslumas')\n",
    "plt.xlabel('epocha')\n",
    "plt.legend() #['mokymo', 'testavimo'])\n",
    "\n",
    "ax2 = plt.twinx()\n",
    "ax2.plot(log.history['loss'], '--', label = 'mokymo')\n",
    "ax2.plot(log.history['val_loss'], '--', label = 'validavimo')\n",
    "ax2.set_ylabel('netektis')\n",
    "#plt.title('model accuracy')\n",
    "plt.show()\n",
    "\n",
    "#joblib.dump(model, os.path.join(OUTPUT_FOLDER,f'nn_{h}_veg.pkl'))"
   ]
  },
  {
   "cell_type": "code",
   "execution_count": 68,
   "metadata": {},
   "outputs": [
    {
     "data": {
      "text/plain": [
       "array([[237,  10],\n",
       "       [ 15, 107]])"
      ]
     },
     "execution_count": 68,
     "metadata": {},
     "output_type": "execute_result"
    }
   ],
   "source": [
    "confusion_matrix(y_test, model.predict_classes(x_test))"
   ]
  },
  {
   "cell_type": "code",
   "execution_count": 69,
   "metadata": {},
   "outputs": [
    {
     "data": {
      "text/plain": [
       "0.895397489539749"
      ]
     },
     "execution_count": 69,
     "metadata": {},
     "output_type": "execute_result"
    }
   ],
   "source": [
    "f1_score(y_test, model.predict_classes(x_test))"
   ]
  },
  {
   "cell_type": "code",
   "execution_count": 70,
   "metadata": {},
   "outputs": [
    {
     "data": {
      "text/plain": [
       "0.9698347381695095"
      ]
     },
     "execution_count": 70,
     "metadata": {},
     "output_type": "execute_result"
    }
   ],
   "source": [
    "roc_auc_score(y_test, model.predict(x_test))"
   ]
  },
  {
   "cell_type": "code",
   "execution_count": 71,
   "metadata": {},
   "outputs": [
    {
     "data": {
      "image/png": "[encoded data removed]",
      "text/plain": [
       "<Figure size 1080x576 with 1 Axes>"
      ]
     },
     "metadata": {},
     "output_type": "display_data"
    }
   ],
   "source": [
    "roc = roc_curve(y_test, model.predict(x_test))\n",
    "plt.plot(roc[0],roc[1])\n",
    "plt.show()"
   ]
  },
  {
   "cell_type": "code",
   "execution_count": 72,
   "metadata": {},
   "outputs": [
    {
     "data": {
      "image/png": "[encoded data removed]",
      "text/plain": [
       "<Figure size 1080x576 with 1 Axes>"
      ]
     },
     "metadata": {},
     "output_type": "display_data"
    }
   ],
   "source": [
    "prc = precision_recall_curve(y_test, model.predict(x_test))\n",
    "plt.plot(prc[0],prc[1])\n",
    "plt.show()"
   ]
  },
  {
   "cell_type": "code",
   "execution_count": null,
   "metadata": {},
   "outputs": [],
   "source": []
  }
 ],
 "metadata": {
  "kernelspec": {
   "display_name": "Python3",
   "language": "python",
   "name": "python3"
  },
  "language_info": {
   "codemirror_mode": {
    "name": "ipython",
    "version": 3
   },
   "file_extension": ".py",
   "mimetype": "text/x-python",
   "name": "python",
   "nbconvert_exporter": "python",
   "pygments_lexer": "ipython3",
   "version": "3.6.5"
  }
 },
 "nbformat": 4,
 "nbformat_minor": 2
}
