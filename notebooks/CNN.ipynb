{
 "cells": [
  {
   "cell_type": "code",
   "execution_count": 89,
   "metadata": {},
   "outputs": [],
   "source": [
    "import numpy as np\n",
    "\n",
    "from sklearn.model_selection import train_test_split\n",
    "import matplotlib.pyplot as plt\n",
    "from sklearn.utils import shuffle\n",
    "from sklearn.preprocessing import StandardScaler\n",
    "from sklearn.metrics import precision_recall_curve, precision_score, average_precision_score, recall_score\n",
    "from sklearn.metrics import accuracy_score, confusion_matrix, f1_score, roc_auc_score, roc_curve\n",
    "\n",
    "import tensorflow as tf\n",
    "from keras.models import Sequential, load_model\n",
    "from keras.layers import Dense, Dropout, Activation, Flatten, Conv2D, MaxPooling1D, MaxPooling2D, LeakyReLU\n",
    "from keras.initializers import RandomNormal\n",
    "import keras.optimizers as opt\n",
    "from keras.callbacks import TensorBoard\n",
    "from keras.utils import plot_model\n",
    "from keras.regularizers import l2"
   ]
  },
  {
   "cell_type": "code",
   "execution_count": 2,
   "metadata": {},
   "outputs": [
    {
     "name": "stdout",
     "output_type": "stream",
     "text": [
      "data = (1845, 21, 77)\n",
      "meta = (1845, 3)\n"
     ]
    }
   ],
   "source": [
    "data = np.load('../data/data.npy')\n",
    "meta = np.load('../data/meta.npy')\n",
    "print(f'data = {data.shape}')\n",
    "print(f'meta = {meta.shape}')"
   ]
  },
  {
   "cell_type": "code",
   "execution_count": 4,
   "metadata": {},
   "outputs": [],
   "source": [
    "X = data[:,:,:,np.newaxis]\n",
    "Y = meta[:,2][:,np.newaxis].astype(int)"
   ]
  },
  {
   "cell_type": "code",
   "execution_count": 5,
   "metadata": {},
   "outputs": [],
   "source": [
    "shape = X.shape\n",
    "std = StandardScaler().fit(X.reshape(-1,1))\n",
    "X = std.transform(X.reshape(-1,1)).reshape(shape)"
   ]
  },
  {
   "cell_type": "code",
   "execution_count": 6,
   "metadata": {},
   "outputs": [],
   "source": [
    "X,Y = shuffle(X,Y)"
   ]
  },
  {
   "cell_type": "code",
   "execution_count": 13,
   "metadata": {},
   "outputs": [],
   "source": [
    "x_train, x_test,  y_train, y_test  = train_test_split(X, Y, test_size = 0.2, random_state = 31)\n",
    "x_train, x_valid, y_train, y_valid = train_test_split(x_train, y_train, test_size = 0.25, random_state = 31)"
   ]
  },
  {
   "cell_type": "code",
   "execution_count": 14,
   "metadata": {},
   "outputs": [
    {
     "name": "stdout",
     "output_type": "stream",
     "text": [
      "train: x=(1107, 21, 77, 1) y=(1107, 1)\n",
      "valid: x=(369, 21, 77, 1) y=(369, 1)\n",
      "test : x=(369, 21, 77, 1)  y=(369, 1)\n"
     ]
    }
   ],
   "source": [
    "print(f\"train: x={x_train.shape} y={y_train.shape}\")\n",
    "print(f\"valid: x={x_valid.shape} y={y_valid.shape}\")\n",
    "print(f\"test : x={x_test.shape}  y={y_test.shape}\")"
   ]
  },
  {
   "cell_type": "code",
   "execution_count": 15,
   "metadata": {},
   "outputs": [
    {
     "name": "stdout",
     "output_type": "stream",
     "text": [
      "cnn_input  = (21, 77, 1)\n",
      "cnn_output = 1\n",
      "batch_size = 32\n"
     ]
    }
   ],
   "source": [
    "cnn_input = X.shape[1:]\n",
    "cnn_output = Y.shape[1]\n",
    "batch_size = 32\n",
    "\n",
    "print(f\"cnn_input  = {cnn_input}\")\n",
    "print(f\"cnn_output = {cnn_output}\")\n",
    "print(f\"batch_size = {batch_size}\")"
   ]
  },
  {
   "cell_type": "code",
   "execution_count": 74,
   "metadata": {},
   "outputs": [],
   "source": [
    "model = Sequential()\n",
    "\n",
    "model.add(Conv2D(16, (7,7), activation = 'tanh', name = 'conv1', input_shape = cnn_input, \n",
    "                 kernel_regularizer=l2(0.005)))\n",
    "model.add(MaxPooling2D(pool_size=(2,2), strides=(1,1), name='maxpool1'))\n",
    "\n",
    "model.add(Conv2D(32, (5,5), activation='tanh', name='conv2'))\n",
    "model.add(MaxPooling2D(pool_size=(2,2), strides=(1,1), name='maxpool2'))\n",
    "\n",
    "model.add(Conv2D(64, (3,3), activation='tanh', name='conv3'))\n",
    "model.add(MaxPooling2D(pool_size=(2,2), name='maxpool3'))\n",
    "\n",
    "model.add(Flatten(name='flat4'))\n",
    "#model.add(Dropout(0.5, name='drop4'))\n",
    "model.add(Dense(1024, activation='tanh', name='dense4'))\n",
    "\n",
    "model.add(Dense(cnn_output, activation='sigmoid', name='softmax'))"
   ]
  },
  {
   "cell_type": "code",
   "execution_count": 75,
   "metadata": {},
   "outputs": [
    {
     "name": "stdout",
     "output_type": "stream",
     "text": [
      "_________________________________________________________________\n",
      "Layer (type)                 Output Shape              Param #   \n",
      "=================================================================\n",
      "conv1 (Conv2D)               (None, 15, 71, 16)        800       \n",
      "_________________________________________________________________\n",
      "maxpool1 (MaxPooling2D)      (None, 14, 70, 16)        0         \n",
      "_________________________________________________________________\n",
      "conv2 (Conv2D)               (None, 10, 66, 32)        12832     \n",
      "_________________________________________________________________\n",
      "maxpool2 (MaxPooling2D)      (None, 9, 65, 32)         0         \n",
      "_________________________________________________________________\n",
      "conv3 (Conv2D)               (None, 7, 63, 64)         18496     \n",
      "_________________________________________________________________\n",
      "maxpool3 (MaxPooling2D)      (None, 3, 31, 64)         0         \n",
      "_________________________________________________________________\n",
      "flat4 (Flatten)              (None, 5952)              0         \n",
      "_________________________________________________________________\n",
      "dense4 (Dense)               (None, 1024)              6095872   \n",
      "_________________________________________________________________\n",
      "softmax (Dense)              (None, 1)                 1025      \n",
      "=================================================================\n",
      "Total params: 6,129,025\n",
      "Trainable params: 6,129,025\n",
      "Non-trainable params: 0\n",
      "_________________________________________________________________\n"
     ]
    }
   ],
   "source": [
    "model.summary()"
   ]
  },
  {
   "cell_type": "code",
   "execution_count": 76,
   "metadata": {},
   "outputs": [],
   "source": [
    "optim = opt.SGD(lr = 0.001, decay = 1e-6, momentum = 0.5, nesterov=True)\n",
    "model.compile(loss='binary_crossentropy', optimizer=optim, metrics=['accuracy'])"
   ]
  },
  {
   "cell_type": "code",
   "execution_count": 77,
   "metadata": {
    "scrolled": true
   },
   "outputs": [
    {
     "name": "stdout",
     "output_type": "stream",
     "text": [
      "Train on 1107 samples, validate on 369 samples\n",
      "Epoch 1/300\n",
      " - 1s - loss: 0.6607 - acc: 0.6477 - val_loss: 0.6048 - val_acc: 0.7290\n",
      "Epoch 2/300\n",
      " - 0s - loss: 0.6317 - acc: 0.6847 - val_loss: 0.5906 - val_acc: 0.7290\n",
      "Epoch 3/300\n",
      " - 0s - loss: 0.6162 - acc: 0.6847 - val_loss: 0.5781 - val_acc: 0.7290\n",
      "Epoch 4/300\n",
      " - 0s - loss: 0.6037 - acc: 0.6874 - val_loss: 0.5652 - val_acc: 0.7290\n",
      "Epoch 5/300\n",
      " - 0s - loss: 0.5924 - acc: 0.6883 - val_loss: 0.5591 - val_acc: 0.7507\n",
      "Epoch 6/300\n",
      " - 0s - loss: 0.5794 - acc: 0.6983 - val_loss: 0.5454 - val_acc: 0.7561\n",
      "Epoch 7/300\n",
      " - 0s - loss: 0.5637 - acc: 0.7136 - val_loss: 0.5345 - val_acc: 0.7615\n",
      "Epoch 8/300\n",
      " - 0s - loss: 0.5528 - acc: 0.7236 - val_loss: 0.5154 - val_acc: 0.7642\n",
      "Epoch 9/300\n",
      " - 0s - loss: 0.5359 - acc: 0.7362 - val_loss: 0.5025 - val_acc: 0.7696\n",
      "Epoch 10/300\n",
      " - 0s - loss: 0.5197 - acc: 0.7543 - val_loss: 0.4850 - val_acc: 0.7696\n",
      "Epoch 11/300\n",
      " - 0s - loss: 0.5061 - acc: 0.7669 - val_loss: 0.4711 - val_acc: 0.7913\n",
      "Epoch 12/300\n",
      " - 0s - loss: 0.4914 - acc: 0.7669 - val_loss: 0.4610 - val_acc: 0.8103\n",
      "Epoch 13/300\n",
      " - 0s - loss: 0.4753 - acc: 0.7832 - val_loss: 0.4407 - val_acc: 0.8049\n",
      "Epoch 14/300\n",
      " - 0s - loss: 0.4612 - acc: 0.7895 - val_loss: 0.4259 - val_acc: 0.8130\n",
      "Epoch 15/300\n",
      " - 0s - loss: 0.4463 - acc: 0.7977 - val_loss: 0.4105 - val_acc: 0.8130\n",
      "Epoch 16/300\n",
      " - 0s - loss: 0.4340 - acc: 0.7977 - val_loss: 0.3996 - val_acc: 0.8293\n",
      "Epoch 17/300\n",
      " - 0s - loss: 0.4213 - acc: 0.8049 - val_loss: 0.3894 - val_acc: 0.8347\n",
      "Epoch 18/300\n",
      " - 0s - loss: 0.4080 - acc: 0.8157 - val_loss: 0.3716 - val_acc: 0.8482\n",
      "Epoch 19/300\n",
      " - 0s - loss: 0.3973 - acc: 0.8193 - val_loss: 0.3612 - val_acc: 0.8591\n",
      "Epoch 20/300\n",
      " - 0s - loss: 0.3862 - acc: 0.8347 - val_loss: 0.3523 - val_acc: 0.8482\n",
      "Epoch 21/300\n",
      " - 0s - loss: 0.3788 - acc: 0.8329 - val_loss: 0.3412 - val_acc: 0.8835\n",
      "Epoch 22/300\n",
      " - 0s - loss: 0.3690 - acc: 0.8383 - val_loss: 0.3312 - val_acc: 0.8780\n",
      "Epoch 23/300\n",
      " - 0s - loss: 0.3620 - acc: 0.8482 - val_loss: 0.3254 - val_acc: 0.8835\n",
      "Epoch 24/300\n",
      " - 0s - loss: 0.3536 - acc: 0.8491 - val_loss: 0.3205 - val_acc: 0.8780\n",
      "Epoch 25/300\n",
      " - 0s - loss: 0.3434 - acc: 0.8654 - val_loss: 0.3219 - val_acc: 0.8645\n",
      "Epoch 26/300\n",
      " - 0s - loss: 0.3408 - acc: 0.8555 - val_loss: 0.3054 - val_acc: 0.8916\n",
      "Epoch 27/300\n",
      " - 0s - loss: 0.3326 - acc: 0.8654 - val_loss: 0.3003 - val_acc: 0.8862\n",
      "Epoch 28/300\n",
      " - 0s - loss: 0.3288 - acc: 0.8663 - val_loss: 0.2922 - val_acc: 0.8835\n",
      "Epoch 29/300\n",
      " - 0s - loss: 0.3231 - acc: 0.8735 - val_loss: 0.2873 - val_acc: 0.8889\n",
      "Epoch 30/300\n",
      " - 0s - loss: 0.3185 - acc: 0.8699 - val_loss: 0.2892 - val_acc: 0.8943\n",
      "Epoch 31/300\n",
      " - 0s - loss: 0.3133 - acc: 0.8780 - val_loss: 0.2802 - val_acc: 0.8780\n",
      "Epoch 32/300\n",
      " - 0s - loss: 0.3088 - acc: 0.8780 - val_loss: 0.2881 - val_acc: 0.8808\n",
      "Epoch 33/300\n",
      " - 0s - loss: 0.3058 - acc: 0.8835 - val_loss: 0.2728 - val_acc: 0.9051\n",
      "Epoch 34/300\n",
      " - 0s - loss: 0.3040 - acc: 0.8844 - val_loss: 0.2686 - val_acc: 0.8943\n",
      "Epoch 35/300\n",
      " - 0s - loss: 0.2965 - acc: 0.8889 - val_loss: 0.2760 - val_acc: 0.9024\n",
      "Epoch 36/300\n",
      " - 0s - loss: 0.2937 - acc: 0.9006 - val_loss: 0.2629 - val_acc: 0.9051\n",
      "Epoch 37/300\n",
      " - 0s - loss: 0.2892 - acc: 0.8862 - val_loss: 0.2585 - val_acc: 0.8943\n",
      "Epoch 38/300\n",
      " - 0s - loss: 0.2868 - acc: 0.8889 - val_loss: 0.2610 - val_acc: 0.9024\n",
      "Epoch 39/300\n",
      " - 0s - loss: 0.2814 - acc: 0.8916 - val_loss: 0.2554 - val_acc: 0.9051\n",
      "Epoch 40/300\n",
      " - 0s - loss: 0.2802 - acc: 0.8997 - val_loss: 0.2495 - val_acc: 0.9024\n",
      "Epoch 41/300\n",
      " - 0s - loss: 0.2757 - acc: 0.9033 - val_loss: 0.2490 - val_acc: 0.9024\n",
      "Epoch 42/300\n",
      " - 0s - loss: 0.2723 - acc: 0.9042 - val_loss: 0.2487 - val_acc: 0.8970\n",
      "Epoch 43/300\n",
      " - 0s - loss: 0.2695 - acc: 0.9061 - val_loss: 0.2462 - val_acc: 0.9160\n",
      "Epoch 44/300\n",
      " - 0s - loss: 0.2641 - acc: 0.9070 - val_loss: 0.2421 - val_acc: 0.9051\n",
      "Epoch 45/300\n",
      " - 0s - loss: 0.2610 - acc: 0.9178 - val_loss: 0.2453 - val_acc: 0.8997\n",
      "Epoch 46/300\n",
      " - 0s - loss: 0.2590 - acc: 0.9061 - val_loss: 0.2451 - val_acc: 0.9160\n",
      "Epoch 47/300\n",
      " - 0s - loss: 0.2580 - acc: 0.9088 - val_loss: 0.2420 - val_acc: 0.9187\n",
      "Epoch 48/300\n",
      " - 0s - loss: 0.2534 - acc: 0.9169 - val_loss: 0.2391 - val_acc: 0.9241\n",
      "Epoch 49/300\n",
      " - 0s - loss: 0.2540 - acc: 0.9097 - val_loss: 0.2371 - val_acc: 0.9133\n",
      "Epoch 50/300\n",
      " - 0s - loss: 0.2490 - acc: 0.9223 - val_loss: 0.2337 - val_acc: 0.9079\n",
      "Epoch 51/300\n",
      " - 0s - loss: 0.2480 - acc: 0.9115 - val_loss: 0.2297 - val_acc: 0.9214\n",
      "Epoch 52/300\n",
      " - 0s - loss: 0.2413 - acc: 0.9187 - val_loss: 0.2292 - val_acc: 0.9187\n",
      "Epoch 53/300\n",
      " - 0s - loss: 0.2432 - acc: 0.9151 - val_loss: 0.2287 - val_acc: 0.9214\n",
      "Epoch 54/300\n",
      " - 0s - loss: 0.2377 - acc: 0.9223 - val_loss: 0.2346 - val_acc: 0.9133\n",
      "Epoch 55/300\n",
      " - 0s - loss: 0.2393 - acc: 0.9160 - val_loss: 0.2309 - val_acc: 0.9160\n",
      "Epoch 56/300\n",
      " - 0s - loss: 0.2323 - acc: 0.9232 - val_loss: 0.2350 - val_acc: 0.9241\n",
      "Epoch 57/300\n",
      " - 0s - loss: 0.2277 - acc: 0.9214 - val_loss: 0.2229 - val_acc: 0.9268\n",
      "Epoch 58/300\n",
      " - 0s - loss: 0.2245 - acc: 0.9259 - val_loss: 0.2307 - val_acc: 0.9187\n",
      "Epoch 59/300\n",
      " - 0s - loss: 0.2239 - acc: 0.9341 - val_loss: 0.2429 - val_acc: 0.9187\n",
      "Epoch 60/300\n",
      " - 0s - loss: 0.2231 - acc: 0.9295 - val_loss: 0.2482 - val_acc: 0.9160\n",
      "Epoch 61/300\n",
      " - 0s - loss: 0.2264 - acc: 0.9341 - val_loss: 0.2189 - val_acc: 0.9106\n",
      "Epoch 62/300\n",
      " - 0s - loss: 0.2182 - acc: 0.9368 - val_loss: 0.2333 - val_acc: 0.9160\n",
      "Epoch 63/300\n",
      " - 0s - loss: 0.2163 - acc: 0.9413 - val_loss: 0.2175 - val_acc: 0.9214\n",
      "Epoch 64/300\n",
      " - 0s - loss: 0.2123 - acc: 0.9313 - val_loss: 0.2172 - val_acc: 0.9214\n",
      "Epoch 65/300\n",
      " - 0s - loss: 0.2108 - acc: 0.9350 - val_loss: 0.2131 - val_acc: 0.9268\n",
      "Epoch 66/300\n",
      " - 0s - loss: 0.2070 - acc: 0.9368 - val_loss: 0.2342 - val_acc: 0.9160\n",
      "Epoch 67/300\n",
      " - 0s - loss: 0.2098 - acc: 0.9286 - val_loss: 0.2130 - val_acc: 0.9350\n",
      "Epoch 68/300\n",
      " - 0s - loss: 0.2041 - acc: 0.9332 - val_loss: 0.2137 - val_acc: 0.9268\n",
      "Epoch 69/300\n",
      " - 0s - loss: 0.2002 - acc: 0.9368 - val_loss: 0.2359 - val_acc: 0.9187\n",
      "Epoch 70/300\n",
      " - 0s - loss: 0.2036 - acc: 0.9386 - val_loss: 0.2149 - val_acc: 0.9187\n",
      "Epoch 71/300\n",
      " - 0s - loss: 0.1998 - acc: 0.9368 - val_loss: 0.2122 - val_acc: 0.9295\n",
      "Epoch 72/300\n",
      " - 0s - loss: 0.1982 - acc: 0.9422 - val_loss: 0.2113 - val_acc: 0.9350\n",
      "Epoch 73/300\n",
      " - 0s - loss: 0.1936 - acc: 0.9404 - val_loss: 0.2083 - val_acc: 0.9295\n",
      "Epoch 74/300\n",
      " - 0s - loss: 0.1916 - acc: 0.9395 - val_loss: 0.2154 - val_acc: 0.9241\n",
      "Epoch 75/300\n",
      " - 0s - loss: 0.1906 - acc: 0.9422 - val_loss: 0.2212 - val_acc: 0.9295\n",
      "Epoch 76/300\n",
      " - 0s - loss: 0.1963 - acc: 0.9359 - val_loss: 0.2088 - val_acc: 0.9295\n",
      "Epoch 77/300\n",
      " - 0s - loss: 0.1879 - acc: 0.9440 - val_loss: 0.2167 - val_acc: 0.9268\n",
      "Epoch 78/300\n",
      " - 0s - loss: 0.1876 - acc: 0.9449 - val_loss: 0.2044 - val_acc: 0.9350\n",
      "Epoch 79/300\n",
      " - 0s - loss: 0.1836 - acc: 0.9449 - val_loss: 0.2005 - val_acc: 0.9377\n",
      "Epoch 80/300\n",
      " - 0s - loss: 0.1806 - acc: 0.9413 - val_loss: 0.2083 - val_acc: 0.9241\n",
      "Epoch 81/300\n",
      " - 0s - loss: 0.1762 - acc: 0.9512 - val_loss: 0.2067 - val_acc: 0.9268\n",
      "Epoch 82/300\n",
      " - 0s - loss: 0.1744 - acc: 0.9566 - val_loss: 0.2105 - val_acc: 0.9322\n",
      "Epoch 83/300\n",
      " - 0s - loss: 0.1790 - acc: 0.9431 - val_loss: 0.2032 - val_acc: 0.9322\n",
      "Epoch 84/300\n",
      " - 0s - loss: 0.1758 - acc: 0.9503 - val_loss: 0.2021 - val_acc: 0.9404\n",
      "Epoch 85/300\n",
      " - 0s - loss: 0.1718 - acc: 0.9494 - val_loss: 0.2052 - val_acc: 0.9268\n",
      "Epoch 86/300\n",
      " - 0s - loss: 0.1685 - acc: 0.9530 - val_loss: 0.2091 - val_acc: 0.9322\n",
      "Epoch 87/300\n",
      " - 0s - loss: 0.1688 - acc: 0.9512 - val_loss: 0.2035 - val_acc: 0.9377\n",
      "Epoch 88/300\n",
      " - 0s - loss: 0.1638 - acc: 0.9530 - val_loss: 0.2002 - val_acc: 0.9295\n",
      "Epoch 89/300\n",
      " - 0s - loss: 0.1678 - acc: 0.9512 - val_loss: 0.2045 - val_acc: 0.9377\n",
      "Epoch 90/300\n",
      " - 0s - loss: 0.1676 - acc: 0.9521 - val_loss: 0.2012 - val_acc: 0.9377\n",
      "Epoch 91/300\n",
      " - 0s - loss: 0.1599 - acc: 0.9575 - val_loss: 0.2083 - val_acc: 0.9322\n",
      "Epoch 92/300\n",
      " - 0s - loss: 0.1611 - acc: 0.9530 - val_loss: 0.1959 - val_acc: 0.9431\n",
      "Epoch 93/300\n",
      " - 0s - loss: 0.1624 - acc: 0.9566 - val_loss: 0.1937 - val_acc: 0.9404\n",
      "Epoch 94/300\n",
      " - 0s - loss: 0.1589 - acc: 0.9566 - val_loss: 0.1931 - val_acc: 0.9377\n",
      "Epoch 95/300\n",
      " - 0s - loss: 0.1544 - acc: 0.9575 - val_loss: 0.2037 - val_acc: 0.9377\n",
      "Epoch 96/300\n",
      " - 0s - loss: 0.1589 - acc: 0.9548 - val_loss: 0.2032 - val_acc: 0.9350\n"
     ]
    },
    {
     "name": "stdout",
     "output_type": "stream",
     "text": [
      "Epoch 97/300\n",
      " - 0s - loss: 0.1554 - acc: 0.9584 - val_loss: 0.2059 - val_acc: 0.9268\n",
      "Epoch 98/300\n",
      " - 0s - loss: 0.1515 - acc: 0.9539 - val_loss: 0.1942 - val_acc: 0.9350\n",
      "Epoch 99/300\n",
      " - 0s - loss: 0.1554 - acc: 0.9494 - val_loss: 0.1952 - val_acc: 0.9404\n",
      "Epoch 100/300\n",
      " - 0s - loss: 0.1507 - acc: 0.9575 - val_loss: 0.1938 - val_acc: 0.9404\n",
      "Epoch 101/300\n",
      " - 0s - loss: 0.1416 - acc: 0.9612 - val_loss: 0.2018 - val_acc: 0.9404\n",
      "Epoch 102/300\n",
      " - 0s - loss: 0.1442 - acc: 0.9593 - val_loss: 0.2040 - val_acc: 0.9295\n",
      "Epoch 103/300\n",
      " - 0s - loss: 0.1460 - acc: 0.9584 - val_loss: 0.1899 - val_acc: 0.9377\n",
      "Epoch 104/300\n",
      " - 0s - loss: 0.1443 - acc: 0.9584 - val_loss: 0.1862 - val_acc: 0.9377\n",
      "Epoch 105/300\n",
      " - 0s - loss: 0.1421 - acc: 0.9630 - val_loss: 0.1884 - val_acc: 0.9431\n",
      "Epoch 106/300\n",
      " - 0s - loss: 0.1395 - acc: 0.9639 - val_loss: 0.1957 - val_acc: 0.9377\n",
      "Epoch 107/300\n",
      " - 0s - loss: 0.1372 - acc: 0.9575 - val_loss: 0.1952 - val_acc: 0.9377\n",
      "Epoch 108/300\n",
      " - 0s - loss: 0.1362 - acc: 0.9666 - val_loss: 0.1949 - val_acc: 0.9377\n",
      "Epoch 109/300\n",
      " - 0s - loss: 0.1346 - acc: 0.9657 - val_loss: 0.1920 - val_acc: 0.9404\n",
      "Epoch 110/300\n",
      " - 0s - loss: 0.1410 - acc: 0.9584 - val_loss: 0.1906 - val_acc: 0.9350\n",
      "Epoch 111/300\n",
      " - 0s - loss: 0.1287 - acc: 0.9729 - val_loss: 0.1906 - val_acc: 0.9377\n",
      "Epoch 112/300\n",
      " - 0s - loss: 0.1325 - acc: 0.9684 - val_loss: 0.1888 - val_acc: 0.9431\n",
      "Epoch 113/300\n",
      " - 0s - loss: 0.1324 - acc: 0.9693 - val_loss: 0.2084 - val_acc: 0.9377\n",
      "Epoch 114/300\n",
      " - 0s - loss: 0.1315 - acc: 0.9684 - val_loss: 0.1957 - val_acc: 0.9377\n",
      "Epoch 115/300\n",
      " - 0s - loss: 0.1310 - acc: 0.9639 - val_loss: 0.2081 - val_acc: 0.9322\n",
      "Epoch 116/300\n",
      " - 0s - loss: 0.1294 - acc: 0.9684 - val_loss: 0.2031 - val_acc: 0.9350\n",
      "Epoch 117/300\n",
      " - 0s - loss: 0.1287 - acc: 0.9666 - val_loss: 0.3494 - val_acc: 0.8672\n",
      "Epoch 118/300\n",
      " - 0s - loss: 0.1269 - acc: 0.9666 - val_loss: 0.1963 - val_acc: 0.9241\n",
      "Epoch 119/300\n",
      " - 0s - loss: 0.1255 - acc: 0.9666 - val_loss: 0.2061 - val_acc: 0.9322\n",
      "Epoch 120/300\n",
      " - 0s - loss: 0.1210 - acc: 0.9675 - val_loss: 0.1884 - val_acc: 0.9431\n",
      "Epoch 121/300\n",
      " - 0s - loss: 0.1218 - acc: 0.9684 - val_loss: 0.1950 - val_acc: 0.9458\n",
      "Epoch 122/300\n",
      " - 0s - loss: 0.1241 - acc: 0.9666 - val_loss: 0.1903 - val_acc: 0.9377\n",
      "Epoch 123/300\n",
      " - 0s - loss: 0.1217 - acc: 0.9693 - val_loss: 0.1865 - val_acc: 0.9485\n",
      "Epoch 124/300\n",
      " - 0s - loss: 0.1214 - acc: 0.9684 - val_loss: 0.1834 - val_acc: 0.9404\n",
      "Epoch 125/300\n",
      " - 0s - loss: 0.1151 - acc: 0.9675 - val_loss: 0.1873 - val_acc: 0.9431\n",
      "Epoch 126/300\n",
      " - 0s - loss: 0.1197 - acc: 0.9702 - val_loss: 0.1850 - val_acc: 0.9458\n",
      "Epoch 127/300\n",
      " - 0s - loss: 0.1169 - acc: 0.9729 - val_loss: 0.1939 - val_acc: 0.9458\n",
      "Epoch 128/300\n",
      " - 0s - loss: 0.1153 - acc: 0.9729 - val_loss: 0.1831 - val_acc: 0.9431\n",
      "Epoch 129/300\n",
      " - 0s - loss: 0.1133 - acc: 0.9729 - val_loss: 0.2945 - val_acc: 0.9024\n",
      "Epoch 130/300\n",
      " - 0s - loss: 0.1201 - acc: 0.9720 - val_loss: 0.1813 - val_acc: 0.9431\n",
      "Epoch 131/300\n",
      " - 0s - loss: 0.1165 - acc: 0.9729 - val_loss: 0.1841 - val_acc: 0.9485\n",
      "Epoch 132/300\n",
      " - 0s - loss: 0.1111 - acc: 0.9702 - val_loss: 0.1768 - val_acc: 0.9431\n",
      "Epoch 133/300\n",
      " - 0s - loss: 0.1123 - acc: 0.9711 - val_loss: 0.1774 - val_acc: 0.9512\n",
      "Epoch 134/300\n",
      " - 0s - loss: 0.1090 - acc: 0.9711 - val_loss: 0.1960 - val_acc: 0.9377\n",
      "Epoch 135/300\n",
      " - 0s - loss: 0.1056 - acc: 0.9774 - val_loss: 0.1810 - val_acc: 0.9458\n",
      "Epoch 136/300\n",
      " - 0s - loss: 0.1127 - acc: 0.9720 - val_loss: 0.1857 - val_acc: 0.9431\n",
      "Epoch 137/300\n",
      " - 0s - loss: 0.1080 - acc: 0.9729 - val_loss: 0.1943 - val_acc: 0.9377\n",
      "Epoch 138/300\n",
      " - 0s - loss: 0.1087 - acc: 0.9729 - val_loss: 0.1833 - val_acc: 0.9404\n",
      "Epoch 139/300\n",
      " - 0s - loss: 0.1085 - acc: 0.9738 - val_loss: 0.1939 - val_acc: 0.9458\n",
      "Epoch 140/300\n",
      " - 0s - loss: 0.1101 - acc: 0.9711 - val_loss: 0.1803 - val_acc: 0.9458\n",
      "Epoch 141/300\n",
      " - 0s - loss: 0.1021 - acc: 0.9792 - val_loss: 0.1835 - val_acc: 0.9485\n",
      "Epoch 142/300\n",
      " - 0s - loss: 0.1007 - acc: 0.9819 - val_loss: 0.1808 - val_acc: 0.9485\n",
      "Epoch 143/300\n",
      " - 0s - loss: 0.1078 - acc: 0.9711 - val_loss: 0.1763 - val_acc: 0.9512\n",
      "Epoch 144/300\n",
      " - 0s - loss: 0.0982 - acc: 0.9792 - val_loss: 0.1787 - val_acc: 0.9431\n",
      "Epoch 145/300\n",
      " - 0s - loss: 0.0997 - acc: 0.9792 - val_loss: 0.1783 - val_acc: 0.9512\n",
      "Epoch 146/300\n",
      " - 0s - loss: 0.0995 - acc: 0.9792 - val_loss: 0.1815 - val_acc: 0.9377\n",
      "Epoch 147/300\n",
      " - 0s - loss: 0.0981 - acc: 0.9765 - val_loss: 0.1788 - val_acc: 0.9431\n",
      "Epoch 148/300\n",
      " - 0s - loss: 0.0989 - acc: 0.9792 - val_loss: 0.1867 - val_acc: 0.9404\n",
      "Epoch 149/300\n",
      " - 0s - loss: 0.0941 - acc: 0.9783 - val_loss: 0.1801 - val_acc: 0.9458\n",
      "Epoch 150/300\n",
      " - 0s - loss: 0.0959 - acc: 0.9783 - val_loss: 0.1811 - val_acc: 0.9404\n",
      "Epoch 151/300\n",
      " - 0s - loss: 0.0982 - acc: 0.9729 - val_loss: 0.1798 - val_acc: 0.9458\n",
      "Epoch 152/300\n",
      " - 0s - loss: 0.0949 - acc: 0.9810 - val_loss: 0.1984 - val_acc: 0.9350\n",
      "Epoch 153/300\n",
      " - 0s - loss: 0.0952 - acc: 0.9756 - val_loss: 0.1742 - val_acc: 0.9431\n",
      "Epoch 154/300\n",
      " - 0s - loss: 0.0914 - acc: 0.9801 - val_loss: 0.1751 - val_acc: 0.9485\n",
      "Epoch 155/300\n",
      " - 0s - loss: 0.0893 - acc: 0.9810 - val_loss: 0.1759 - val_acc: 0.9431\n",
      "Epoch 156/300\n",
      " - 0s - loss: 0.0914 - acc: 0.9828 - val_loss: 0.1795 - val_acc: 0.9431\n",
      "Epoch 157/300\n",
      " - 0s - loss: 0.0918 - acc: 0.9837 - val_loss: 0.1835 - val_acc: 0.9512\n",
      "Epoch 158/300\n",
      " - 0s - loss: 0.0870 - acc: 0.9855 - val_loss: 0.2006 - val_acc: 0.9295\n",
      "Epoch 159/300\n",
      " - 0s - loss: 0.0911 - acc: 0.9810 - val_loss: 0.1871 - val_acc: 0.9512\n",
      "Epoch 160/300\n",
      " - 0s - loss: 0.0864 - acc: 0.9846 - val_loss: 0.2456 - val_acc: 0.9160\n",
      "Epoch 161/300\n",
      " - 0s - loss: 0.0968 - acc: 0.9810 - val_loss: 0.1766 - val_acc: 0.9458\n",
      "Epoch 162/300\n",
      " - 0s - loss: 0.0856 - acc: 0.9892 - val_loss: 0.1798 - val_acc: 0.9512\n",
      "Epoch 163/300\n",
      " - 0s - loss: 0.0878 - acc: 0.9819 - val_loss: 0.1832 - val_acc: 0.9404\n",
      "Epoch 164/300\n",
      " - 0s - loss: 0.0858 - acc: 0.9810 - val_loss: 0.1812 - val_acc: 0.9431\n",
      "Epoch 165/300\n",
      " - 0s - loss: 0.0842 - acc: 0.9855 - val_loss: 0.1747 - val_acc: 0.9485\n",
      "Epoch 166/300\n",
      " - 0s - loss: 0.0819 - acc: 0.9874 - val_loss: 0.2371 - val_acc: 0.9295\n",
      "Epoch 167/300\n",
      " - 0s - loss: 0.0868 - acc: 0.9828 - val_loss: 0.1847 - val_acc: 0.9485\n",
      "Epoch 168/300\n",
      " - 0s - loss: 0.0810 - acc: 0.9874 - val_loss: 0.1766 - val_acc: 0.9485\n",
      "Epoch 169/300\n",
      " - 0s - loss: 0.0833 - acc: 0.9819 - val_loss: 0.1730 - val_acc: 0.9539\n",
      "Epoch 170/300\n",
      " - 0s - loss: 0.0802 - acc: 0.9855 - val_loss: 0.1783 - val_acc: 0.9512\n",
      "Epoch 171/300\n",
      " - 0s - loss: 0.0820 - acc: 0.9828 - val_loss: 0.1748 - val_acc: 0.9404\n",
      "Epoch 172/300\n",
      " - 0s - loss: 0.0778 - acc: 0.9874 - val_loss: 0.1795 - val_acc: 0.9458\n",
      "Epoch 173/300\n",
      " - 0s - loss: 0.0793 - acc: 0.9874 - val_loss: 0.1830 - val_acc: 0.9485\n",
      "Epoch 174/300\n",
      " - 0s - loss: 0.0768 - acc: 0.9874 - val_loss: 0.1832 - val_acc: 0.9458\n",
      "Epoch 175/300\n",
      " - 0s - loss: 0.0784 - acc: 0.9883 - val_loss: 0.1788 - val_acc: 0.9485\n",
      "Epoch 176/300\n",
      " - 0s - loss: 0.0782 - acc: 0.9864 - val_loss: 0.1859 - val_acc: 0.9404\n",
      "Epoch 177/300\n",
      " - 0s - loss: 0.0780 - acc: 0.9837 - val_loss: 0.1745 - val_acc: 0.9458\n",
      "Epoch 178/300\n",
      " - 0s - loss: 0.0757 - acc: 0.9901 - val_loss: 0.1789 - val_acc: 0.9458\n",
      "Epoch 179/300\n",
      " - 0s - loss: 0.0759 - acc: 0.9846 - val_loss: 0.1767 - val_acc: 0.9485\n",
      "Epoch 180/300\n",
      " - 0s - loss: 0.0746 - acc: 0.9864 - val_loss: 0.1763 - val_acc: 0.9485\n",
      "Epoch 181/300\n",
      " - 0s - loss: 0.0739 - acc: 0.9910 - val_loss: 0.1784 - val_acc: 0.9485\n",
      "Epoch 182/300\n",
      " - 0s - loss: 0.0750 - acc: 0.9892 - val_loss: 0.1805 - val_acc: 0.9512\n",
      "Epoch 183/300\n",
      " - 0s - loss: 0.0724 - acc: 0.9892 - val_loss: 0.1852 - val_acc: 0.9512\n",
      "Epoch 184/300\n",
      " - 0s - loss: 0.0718 - acc: 0.9892 - val_loss: 0.1829 - val_acc: 0.9431\n",
      "Epoch 185/300\n",
      " - 0s - loss: 0.0723 - acc: 0.9910 - val_loss: 0.1787 - val_acc: 0.9485\n",
      "Epoch 186/300\n",
      " - 0s - loss: 0.0718 - acc: 0.9883 - val_loss: 0.1794 - val_acc: 0.9458\n",
      "Epoch 187/300\n",
      " - 0s - loss: 0.0734 - acc: 0.9874 - val_loss: 0.1819 - val_acc: 0.9431\n",
      "Epoch 188/300\n",
      " - 0s - loss: 0.0698 - acc: 0.9883 - val_loss: 0.1774 - val_acc: 0.9458\n",
      "Epoch 189/300\n",
      " - 0s - loss: 0.0723 - acc: 0.9874 - val_loss: 0.1799 - val_acc: 0.9458\n",
      "Epoch 190/300\n",
      " - 0s - loss: 0.0713 - acc: 0.9919 - val_loss: 0.1776 - val_acc: 0.9512\n",
      "Epoch 191/300\n",
      " - 0s - loss: 0.0688 - acc: 0.9910 - val_loss: 0.1888 - val_acc: 0.9485\n",
      "Epoch 192/300\n",
      " - 0s - loss: 0.0686 - acc: 0.9910 - val_loss: 0.1853 - val_acc: 0.9485\n"
     ]
    },
    {
     "name": "stdout",
     "output_type": "stream",
     "text": [
      "Epoch 193/300\n",
      " - 0s - loss: 0.0680 - acc: 0.9928 - val_loss: 0.1869 - val_acc: 0.9377\n",
      "Epoch 194/300\n",
      " - 0s - loss: 0.0663 - acc: 0.9883 - val_loss: 0.1796 - val_acc: 0.9458\n",
      "Epoch 195/300\n",
      " - 0s - loss: 0.0701 - acc: 0.9883 - val_loss: 0.1772 - val_acc: 0.9512\n",
      "Epoch 196/300\n",
      " - 0s - loss: 0.0649 - acc: 0.9955 - val_loss: 0.1877 - val_acc: 0.9404\n",
      "Epoch 197/300\n",
      " - 0s - loss: 0.0660 - acc: 0.9901 - val_loss: 0.1775 - val_acc: 0.9458\n",
      "Epoch 198/300\n",
      " - 0s - loss: 0.0660 - acc: 0.9928 - val_loss: 0.1799 - val_acc: 0.9485\n",
      "Epoch 199/300\n",
      " - 0s - loss: 0.0658 - acc: 0.9928 - val_loss: 0.1841 - val_acc: 0.9485\n",
      "Epoch 200/300\n",
      " - 0s - loss: 0.0657 - acc: 0.9919 - val_loss: 0.1837 - val_acc: 0.9512\n",
      "Epoch 201/300\n",
      " - 0s - loss: 0.0646 - acc: 0.9910 - val_loss: 0.1830 - val_acc: 0.9485\n",
      "Epoch 202/300\n",
      " - 0s - loss: 0.0627 - acc: 0.9919 - val_loss: 0.1905 - val_acc: 0.9458\n",
      "Epoch 203/300\n",
      " - 0s - loss: 0.0620 - acc: 0.9964 - val_loss: 0.1941 - val_acc: 0.9458\n",
      "Epoch 204/300\n",
      " - 0s - loss: 0.0633 - acc: 0.9937 - val_loss: 0.1840 - val_acc: 0.9485\n",
      "Epoch 205/300\n",
      " - 0s - loss: 0.0631 - acc: 0.9910 - val_loss: 0.1790 - val_acc: 0.9458\n",
      "Epoch 206/300\n",
      " - 0s - loss: 0.0643 - acc: 0.9883 - val_loss: 0.1812 - val_acc: 0.9458\n",
      "Epoch 207/300\n",
      " - 0s - loss: 0.0627 - acc: 0.9928 - val_loss: 0.1816 - val_acc: 0.9566\n",
      "Epoch 208/300\n",
      " - 0s - loss: 0.0625 - acc: 0.9919 - val_loss: 0.1818 - val_acc: 0.9458\n",
      "Epoch 209/300\n",
      " - 0s - loss: 0.0592 - acc: 0.9964 - val_loss: 0.1858 - val_acc: 0.9485\n",
      "Epoch 210/300\n",
      " - 0s - loss: 0.0604 - acc: 0.9946 - val_loss: 0.1814 - val_acc: 0.9485\n",
      "Epoch 211/300\n",
      " - 0s - loss: 0.0608 - acc: 0.9919 - val_loss: 0.1835 - val_acc: 0.9458\n",
      "Epoch 212/300\n",
      " - 0s - loss: 0.0603 - acc: 0.9946 - val_loss: 0.1850 - val_acc: 0.9485\n",
      "Epoch 213/300\n",
      " - 0s - loss: 0.0580 - acc: 0.9964 - val_loss: 0.2085 - val_acc: 0.9404\n",
      "Epoch 214/300\n",
      " - 0s - loss: 0.0588 - acc: 0.9964 - val_loss: 0.2025 - val_acc: 0.9485\n",
      "Epoch 215/300\n",
      " - 0s - loss: 0.0599 - acc: 0.9937 - val_loss: 0.1823 - val_acc: 0.9512\n",
      "Epoch 216/300\n",
      " - 0s - loss: 0.0574 - acc: 0.9955 - val_loss: 0.2065 - val_acc: 0.9458\n",
      "Epoch 217/300\n",
      " - 0s - loss: 0.0580 - acc: 0.9964 - val_loss: 0.1830 - val_acc: 0.9512\n",
      "Epoch 218/300\n",
      " - 0s - loss: 0.0562 - acc: 0.9964 - val_loss: 0.1817 - val_acc: 0.9512\n",
      "Epoch 219/300\n",
      " - 0s - loss: 0.0565 - acc: 0.9964 - val_loss: 0.1900 - val_acc: 0.9593\n",
      "Epoch 220/300\n",
      " - 0s - loss: 0.0584 - acc: 0.9946 - val_loss: 0.1819 - val_acc: 0.9512\n",
      "Epoch 221/300\n",
      " - 0s - loss: 0.0577 - acc: 0.9946 - val_loss: 0.1822 - val_acc: 0.9512\n",
      "Epoch 222/300\n",
      " - 0s - loss: 0.0557 - acc: 0.9964 - val_loss: 0.1882 - val_acc: 0.9512\n",
      "Epoch 223/300\n",
      " - 0s - loss: 0.0561 - acc: 0.9955 - val_loss: 0.1845 - val_acc: 0.9485\n",
      "Epoch 224/300\n",
      " - 0s - loss: 0.0555 - acc: 0.9973 - val_loss: 0.1866 - val_acc: 0.9539\n",
      "Epoch 225/300\n",
      " - 0s - loss: 0.0545 - acc: 0.9973 - val_loss: 0.1871 - val_acc: 0.9485\n",
      "Epoch 226/300\n",
      " - 0s - loss: 0.0552 - acc: 0.9964 - val_loss: 0.1845 - val_acc: 0.9458\n",
      "Epoch 227/300\n",
      " - 0s - loss: 0.0554 - acc: 0.9964 - val_loss: 0.1853 - val_acc: 0.9458\n",
      "Epoch 228/300\n",
      " - 0s - loss: 0.0538 - acc: 0.9973 - val_loss: 0.1905 - val_acc: 0.9539\n",
      "Epoch 229/300\n",
      " - 0s - loss: 0.0550 - acc: 0.9964 - val_loss: 0.1864 - val_acc: 0.9539\n",
      "Epoch 230/300\n",
      " - 0s - loss: 0.0542 - acc: 0.9955 - val_loss: 0.1958 - val_acc: 0.9458\n",
      "Epoch 231/300\n",
      " - 0s - loss: 0.0549 - acc: 0.9964 - val_loss: 0.1899 - val_acc: 0.9458\n",
      "Epoch 232/300\n",
      " - 0s - loss: 0.0574 - acc: 0.9946 - val_loss: 0.1909 - val_acc: 0.9458\n",
      "Epoch 233/300\n",
      " - 0s - loss: 0.0534 - acc: 0.9946 - val_loss: 0.1895 - val_acc: 0.9512\n",
      "Epoch 234/300\n",
      " - 0s - loss: 0.0529 - acc: 0.9955 - val_loss: 0.1870 - val_acc: 0.9512\n",
      "Epoch 235/300\n",
      " - 0s - loss: 0.0525 - acc: 0.9973 - val_loss: 0.1907 - val_acc: 0.9431\n",
      "Epoch 236/300\n",
      " - 0s - loss: 0.0518 - acc: 0.9964 - val_loss: 0.1927 - val_acc: 0.9458\n",
      "Epoch 237/300\n",
      " - 0s - loss: 0.0520 - acc: 0.9991 - val_loss: 0.1889 - val_acc: 0.9485\n",
      "Epoch 238/300\n",
      " - 0s - loss: 0.0525 - acc: 0.9964 - val_loss: 0.1997 - val_acc: 0.9458\n",
      "Epoch 239/300\n",
      " - 0s - loss: 0.0523 - acc: 0.9955 - val_loss: 0.1898 - val_acc: 0.9566\n",
      "Epoch 240/300\n",
      " - 0s - loss: 0.0523 - acc: 0.9964 - val_loss: 0.2091 - val_acc: 0.9485\n",
      "Epoch 241/300\n",
      " - 0s - loss: 0.0519 - acc: 0.9964 - val_loss: 0.1890 - val_acc: 0.9485\n",
      "Epoch 242/300\n",
      " - 0s - loss: 0.0539 - acc: 0.9982 - val_loss: 0.1950 - val_acc: 0.9404\n",
      "Epoch 243/300\n",
      " - 0s - loss: 0.0507 - acc: 0.9982 - val_loss: 0.1887 - val_acc: 0.9539\n",
      "Epoch 244/300\n",
      " - 0s - loss: 0.0549 - acc: 0.9964 - val_loss: 0.1927 - val_acc: 0.9485\n",
      "Epoch 245/300\n",
      " - 0s - loss: 0.0492 - acc: 0.9982 - val_loss: 0.1971 - val_acc: 0.9431\n",
      "Epoch 246/300\n",
      " - 0s - loss: 0.0522 - acc: 0.9964 - val_loss: 0.1929 - val_acc: 0.9539\n",
      "Epoch 247/300\n",
      " - 0s - loss: 0.0496 - acc: 0.9982 - val_loss: 0.1883 - val_acc: 0.9431\n",
      "Epoch 248/300\n",
      " - 0s - loss: 0.0495 - acc: 0.9982 - val_loss: 0.2103 - val_acc: 0.9431\n",
      "Epoch 249/300\n",
      " - 0s - loss: 0.0502 - acc: 0.9982 - val_loss: 0.1915 - val_acc: 0.9431\n",
      "Epoch 250/300\n",
      " - 0s - loss: 0.0489 - acc: 0.9982 - val_loss: 0.1994 - val_acc: 0.9431\n",
      "Epoch 251/300\n",
      " - 0s - loss: 0.0493 - acc: 0.9964 - val_loss: 0.1898 - val_acc: 0.9431\n",
      "Epoch 252/300\n",
      " - 0s - loss: 0.0487 - acc: 0.9982 - val_loss: 0.1976 - val_acc: 0.9566\n",
      "Epoch 253/300\n",
      " - 0s - loss: 0.0504 - acc: 0.9982 - val_loss: 0.1918 - val_acc: 0.9539\n",
      "Epoch 254/300\n",
      " - 0s - loss: 0.0493 - acc: 0.9973 - val_loss: 0.1952 - val_acc: 0.9512\n",
      "Epoch 255/300\n",
      " - 0s - loss: 0.0480 - acc: 0.9982 - val_loss: 0.1916 - val_acc: 0.9539\n",
      "Epoch 256/300\n",
      " - 0s - loss: 0.0480 - acc: 0.9982 - val_loss: 0.1942 - val_acc: 0.9566\n",
      "Epoch 257/300\n",
      " - 0s - loss: 0.0488 - acc: 0.9973 - val_loss: 0.1900 - val_acc: 0.9485\n",
      "Epoch 258/300\n",
      " - 0s - loss: 0.0468 - acc: 0.9991 - val_loss: 0.1931 - val_acc: 0.9485\n",
      "Epoch 259/300\n",
      " - 0s - loss: 0.0504 - acc: 0.9964 - val_loss: 0.1980 - val_acc: 0.9539\n",
      "Epoch 260/300\n",
      " - 0s - loss: 0.0472 - acc: 0.9991 - val_loss: 0.1913 - val_acc: 0.9539\n",
      "Epoch 261/300\n",
      " - 0s - loss: 0.0473 - acc: 0.9973 - val_loss: 0.1952 - val_acc: 0.9566\n",
      "Epoch 262/300\n",
      " - 0s - loss: 0.0462 - acc: 0.9991 - val_loss: 0.1949 - val_acc: 0.9431\n",
      "Epoch 263/300\n",
      " - 0s - loss: 0.0471 - acc: 0.9991 - val_loss: 0.1930 - val_acc: 0.9539\n",
      "Epoch 264/300\n",
      " - 0s - loss: 0.0465 - acc: 0.9973 - val_loss: 0.1990 - val_acc: 0.9431\n",
      "Epoch 265/300\n",
      " - 0s - loss: 0.0467 - acc: 0.9964 - val_loss: 0.1941 - val_acc: 0.9512\n",
      "Epoch 266/300\n",
      " - 0s - loss: 0.0451 - acc: 0.9991 - val_loss: 0.1999 - val_acc: 0.9431\n",
      "Epoch 267/300\n",
      " - 0s - loss: 0.0452 - acc: 0.9982 - val_loss: 0.1938 - val_acc: 0.9485\n",
      "Epoch 268/300\n",
      " - 0s - loss: 0.0457 - acc: 0.9991 - val_loss: 0.1991 - val_acc: 0.9431\n",
      "Epoch 269/300\n",
      " - 0s - loss: 0.0450 - acc: 0.9982 - val_loss: 0.1996 - val_acc: 0.9512\n",
      "Epoch 270/300\n",
      " - 0s - loss: 0.0470 - acc: 0.9973 - val_loss: 0.1957 - val_acc: 0.9458\n",
      "Epoch 271/300\n",
      " - 0s - loss: 0.0455 - acc: 0.9982 - val_loss: 0.1972 - val_acc: 0.9404\n",
      "Epoch 272/300\n",
      " - 0s - loss: 0.0453 - acc: 0.9991 - val_loss: 0.1973 - val_acc: 0.9377\n",
      "Epoch 273/300\n",
      " - 0s - loss: 0.0444 - acc: 0.9982 - val_loss: 0.2008 - val_acc: 0.9539\n",
      "Epoch 274/300\n",
      " - 0s - loss: 0.0452 - acc: 0.9973 - val_loss: 0.2004 - val_acc: 0.9458\n",
      "Epoch 275/300\n",
      " - 0s - loss: 0.0443 - acc: 0.9991 - val_loss: 0.1956 - val_acc: 0.9566\n",
      "Epoch 276/300\n",
      " - 0s - loss: 0.0449 - acc: 0.9991 - val_loss: 0.2022 - val_acc: 0.9431\n",
      "Epoch 277/300\n",
      " - 0s - loss: 0.0442 - acc: 0.9991 - val_loss: 0.1985 - val_acc: 0.9539\n",
      "Epoch 278/300\n",
      " - 0s - loss: 0.0445 - acc: 0.9991 - val_loss: 0.1947 - val_acc: 0.9404\n",
      "Epoch 279/300\n",
      " - 0s - loss: 0.0436 - acc: 0.9982 - val_loss: 0.1997 - val_acc: 0.9539\n",
      "Epoch 280/300\n",
      " - 0s - loss: 0.0439 - acc: 0.9991 - val_loss: 0.1979 - val_acc: 0.9566\n",
      "Epoch 281/300\n",
      " - 0s - loss: 0.0446 - acc: 0.9991 - val_loss: 0.1983 - val_acc: 0.9404\n",
      "Epoch 282/300\n",
      " - 0s - loss: 0.0435 - acc: 0.9991 - val_loss: 0.2015 - val_acc: 0.9458\n",
      "Epoch 283/300\n",
      " - 0s - loss: 0.0442 - acc: 0.9973 - val_loss: 0.1969 - val_acc: 0.9539\n",
      "Epoch 284/300\n",
      " - 0s - loss: 0.0429 - acc: 0.9991 - val_loss: 0.2022 - val_acc: 0.9458\n",
      "Epoch 285/300\n",
      " - 0s - loss: 0.0431 - acc: 0.9982 - val_loss: 0.2039 - val_acc: 0.9566\n",
      "Epoch 286/300\n",
      " - 0s - loss: 0.0447 - acc: 0.9991 - val_loss: 0.1988 - val_acc: 0.9539\n",
      "Epoch 287/300\n",
      " - 0s - loss: 0.0431 - acc: 0.9991 - val_loss: 0.2011 - val_acc: 0.9431\n",
      "Epoch 288/300\n",
      " - 0s - loss: 0.0433 - acc: 0.9991 - val_loss: 0.1987 - val_acc: 0.9512\n"
     ]
    },
    {
     "name": "stdout",
     "output_type": "stream",
     "text": [
      "Epoch 289/300\n",
      " - 0s - loss: 0.0420 - acc: 0.9991 - val_loss: 0.2039 - val_acc: 0.9404\n",
      "Epoch 290/300\n",
      " - 0s - loss: 0.0427 - acc: 0.9982 - val_loss: 0.2020 - val_acc: 0.9566\n",
      "Epoch 291/300\n",
      " - 0s - loss: 0.0427 - acc: 0.9991 - val_loss: 0.2086 - val_acc: 0.9431\n",
      "Epoch 292/300\n",
      " - 0s - loss: 0.0428 - acc: 0.9991 - val_loss: 0.2016 - val_acc: 0.9566\n",
      "Epoch 293/300\n",
      " - 0s - loss: 0.0420 - acc: 0.9982 - val_loss: 0.2100 - val_acc: 0.9404\n",
      "Epoch 294/300\n",
      " - 0s - loss: 0.0417 - acc: 0.9991 - val_loss: 0.1992 - val_acc: 0.9512\n",
      "Epoch 295/300\n",
      " - 0s - loss: 0.0418 - acc: 0.9991 - val_loss: 0.2045 - val_acc: 0.9485\n",
      "Epoch 296/300\n",
      " - 0s - loss: 0.0415 - acc: 0.9991 - val_loss: 0.2000 - val_acc: 0.9458\n",
      "Epoch 297/300\n",
      " - 0s - loss: 0.0422 - acc: 0.9991 - val_loss: 0.1999 - val_acc: 0.9431\n",
      "Epoch 298/300\n",
      " - 0s - loss: 0.0417 - acc: 0.9991 - val_loss: 0.1991 - val_acc: 0.9458\n",
      "Epoch 299/300\n",
      " - 0s - loss: 0.0419 - acc: 0.9982 - val_loss: 0.2089 - val_acc: 0.9593\n",
      "Epoch 300/300\n",
      " - 0s - loss: 0.0413 - acc: 0.9991 - val_loss: 0.2029 - val_acc: 0.9485\n"
     ]
    }
   ],
   "source": [
    "log = model.fit(x_train, y_train, batch_size = batch_size, epochs = 300, \n",
    "          verbose = 2, validation_data=(x_valid, y_valid))"
   ]
  },
  {
   "cell_type": "code",
   "execution_count": 78,
   "metadata": {},
   "outputs": [
    {
     "name": "stdout",
     "output_type": "stream",
     "text": [
      "369/369 [==============================] - 0s 81us/step\n",
      "Testing:\n",
      "loss = 0.21780787735450557\n",
      "acc = 0.9457994581561101\n"
     ]
    }
   ],
   "source": [
    "result = model.evaluate(x_test, y_test)\n",
    "print('Testing:')\n",
    "print('\\n'.join('{} = {}'.format(*k) for k in zip(model.metrics_names, result)))"
   ]
  },
  {
   "cell_type": "code",
   "execution_count": 79,
   "metadata": {},
   "outputs": [
    {
     "data": {
      "image/png": "[encoded data removed]",
      "text/plain": [
       "<Figure size 1080x576 with 2 Axes>"
      ]
     },
     "metadata": {},
     "output_type": "display_data"
    }
   ],
   "source": [
    "plt.rcParams['figure.figsize'] = (15, 8)\n",
    "\n",
    "plt.plot(log.history['acc'], label = 'mokymo')\n",
    "plt.plot(log.history['val_acc'], label = 'validavimo')\n",
    "plt.ylabel('tikslumas')\n",
    "plt.xlabel('epocha')\n",
    "plt.legend() #['mokymo', 'testavimo'])\n",
    "\n",
    "ax2 = plt.twinx()\n",
    "ax2.plot(log.history['loss'], '--', label = 'mokymo')\n",
    "ax2.plot(log.history['val_loss'], '--', label = 'validavimo')\n",
    "ax2.set_ylabel('netektis')\n",
    "#plt.title('model accuracy')\n",
    "plt.show()\n",
    "\n",
    "#joblib.dump(model, os.path.join(OUTPUT_FOLDER,f'nn_{h}_veg.pkl'))"
   ]
  },
  {
   "cell_type": "code",
   "execution_count": 80,
   "metadata": {},
   "outputs": [
    {
     "data": {
      "text/plain": [
       "array([[241,   6],\n",
       "       [ 14, 108]])"
      ]
     },
     "execution_count": 80,
     "metadata": {},
     "output_type": "execute_result"
    }
   ],
   "source": [
    "confusion_matrix(y_test, model.predict_classes(x_test))"
   ]
  },
  {
   "cell_type": "code",
   "execution_count": 81,
   "metadata": {},
   "outputs": [
    {
     "data": {
      "text/plain": [
       "0.9152542372881356"
      ]
     },
     "execution_count": 81,
     "metadata": {},
     "output_type": "execute_result"
    }
   ],
   "source": [
    "f1_score(y_test, model.predict_classes(x_test))"
   ]
  },
  {
   "cell_type": "code",
   "execution_count": 82,
   "metadata": {},
   "outputs": [
    {
     "data": {
      "text/plain": [
       "0.9803544169376783"
      ]
     },
     "execution_count": 82,
     "metadata": {},
     "output_type": "execute_result"
    }
   ],
   "source": [
    "roc_auc_score(y_test, model.predict(x_test))"
   ]
  },
  {
   "cell_type": "code",
   "execution_count": 85,
   "metadata": {},
   "outputs": [
    {
     "data": {
      "image/png": "[encoded data removed]",
      "text/plain": [
       "<Figure size 576x576 with 1 Axes>"
      ]
     },
     "metadata": {},
     "output_type": "display_data"
    }
   ],
   "source": [
    "plt.rcParams['figure.figsize'] = (8, 8)\n",
    "roc = roc_curve(y_test, model.predict(x_test))\n",
    "plt.plot(roc[0],roc[1])\n",
    "plt.show()"
   ]
  },
  {
   "cell_type": "code",
   "execution_count": 86,
   "metadata": {},
   "outputs": [
    {
     "data": {
      "image/png": "[encoded data removed]",
      "text/plain": [
       "<Figure size 576x576 with 1 Axes>"
      ]
     },
     "metadata": {},
     "output_type": "display_data"
    }
   ],
   "source": [
    "plt.rcParams['figure.figsize'] = (8, 8)\n",
    "prc = precision_recall_curve(y_test, model.predict(x_test))\n",
    "plt.plot(prc[0],prc[1])\n",
    "plt.show()"
   ]
  },
  {
   "cell_type": "code",
   "execution_count": 90,
   "metadata": {},
   "outputs": [
    {
     "data": {
      "text/plain": [
       "0.9706534586842358"
      ]
     },
     "execution_count": 90,
     "metadata": {},
     "output_type": "execute_result"
    }
   ],
   "source": [
    "average_precision_score(y_test, model.predict(x_test))"
   ]
  },
  {
   "cell_type": "code",
   "execution_count": 93,
   "metadata": {},
   "outputs": [
    {
     "data": {
      "text/plain": [
       "0.9473684210526315"
      ]
     },
     "execution_count": 93,
     "metadata": {},
     "output_type": "execute_result"
    }
   ],
   "source": [
    "precision_score(y_test, model.predict_classes(x_test))"
   ]
  },
  {
   "cell_type": "code",
   "execution_count": 94,
   "metadata": {},
   "outputs": [
    {
     "data": {
      "text/plain": [
       "0.8852459016393442"
      ]
     },
     "execution_count": 94,
     "metadata": {},
     "output_type": "execute_result"
    }
   ],
   "source": [
    "recall_score(y_test, model.predict_classes(x_test))"
   ]
  },
  {
   "cell_type": "code",
   "execution_count": null,
   "metadata": {},
   "outputs": [],
   "source": []
  }
 ],
 "metadata": {
  "kernelspec": {
   "display_name": "Python3",
   "language": "python",
   "name": "python3"
  },
  "language_info": {
   "codemirror_mode": {
    "name": "ipython",
    "version": 3
   },
   "file_extension": ".py",
   "mimetype": "text/x-python",
   "name": "python",
   "nbconvert_exporter": "python",
   "pygments_lexer": "ipython3",
   "version": "3.6.5"
  }
 },
 "nbformat": 4,
 "nbformat_minor": 2
}
