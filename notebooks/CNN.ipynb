{
 "cells": [
  {
   "cell_type": "code",
   "execution_count": 457,
   "metadata": {},
   "outputs": [],
   "source": [
    "import numpy as np\n",
    "\n",
    "from sklearn.model_selection import train_test_split\n",
    "import matplotlib.pyplot as plt\n",
    "from sklearn.utils import shuffle\n",
    "from sklearn.preprocessing import StandardScaler\n",
    "from sklearn.metrics import accuracy_score, confusion_matrix\n",
    "\n",
    "import tensorflow as tf\n",
    "from keras.models import Sequential, load_model\n",
    "from keras.layers import Dense, Dropout, Activation, Flatten, Conv2D, MaxPooling1D, MaxPooling2D, LeakyReLU\n",
    "from keras.initializers import RandomNormal\n",
    "import keras.optimizers as opt\n",
    "from keras.callbacks import TensorBoard\n",
    "from keras.utils import plot_model\n",
    "from keras.regularizers import l2"
   ]
  },
  {
   "cell_type": "code",
   "execution_count": 362,
   "metadata": {},
   "outputs": [
    {
     "name": "stdout",
     "output_type": "stream",
     "text": [
      "data = (1845, 21, 77)\n",
      "meta = (1845, 3)\n"
     ]
    }
   ],
   "source": [
    "data = np.load('../data/data.npy')\n",
    "meta = np.load('../data/meta.npy')\n",
    "print(f'data = {data.shape}')\n",
    "print(f'meta = {meta.shape}')"
   ]
  },
  {
   "cell_type": "code",
   "execution_count": 385,
   "metadata": {},
   "outputs": [],
   "source": [
    "shape = X.shape\n",
    "std = StandardScaler().fit(X.reshape(-1,1))\n",
    "X = std.transform(X.reshape(-1,1)).reshape(shape)"
   ]
  },
  {
   "cell_type": "code",
   "execution_count": 386,
   "metadata": {},
   "outputs": [],
   "source": [
    "X = data[:,:,:,np.newaxis]\n",
    "Y = meta[:,2][:,np.newaxis].astype(int)"
   ]
  },
  {
   "cell_type": "code",
   "execution_count": 387,
   "metadata": {},
   "outputs": [],
   "source": [
    "X,Y = shuffle(X,Y)"
   ]
  },
  {
   "cell_type": "code",
   "execution_count": 388,
   "metadata": {},
   "outputs": [],
   "source": [
    "x_train, x_test,  y_train, y_test  = train_test_split(X, Y, test_size = 0.2, random_state = 31)\n",
    "x_train, x_valid, y_train, y_valid = train_test_split(x_train, y_train, test_size = 0.25, random_state = 31)"
   ]
  },
  {
   "cell_type": "code",
   "execution_count": 422,
   "metadata": {},
   "outputs": [
    {
     "name": "stdout",
     "output_type": "stream",
     "text": [
      "train: x=(1107, 21, 77, 1) y=(1107, 1)\n",
      "valid: x=(369, 21, 77, 1)  y=(369, 1)\n",
      "test : x=(369, 21, 77, 1)  y=(369, 1)\n"
     ]
    }
   ],
   "source": [
    "print(f\"train: x={x_train.shape} y={y_train.shape}\")\n",
    "print(f\"valid: x={x_valid.shape} y={y_valid.shape}\")\n",
    "print(f\"test : x={x_test.shape}  y={y_test.shape}\")"
   ]
  },
  {
   "cell_type": "code",
   "execution_count": 423,
   "metadata": {},
   "outputs": [
    {
     "name": "stdout",
     "output_type": "stream",
     "text": [
      "cnn_input  = (21, 77, 1)\n",
      "cnn_output = 1\n",
      "batch_size = 32\n"
     ]
    }
   ],
   "source": [
    "cnn_input = X.shape[1:]\n",
    "cnn_output = Y.shape[1]\n",
    "batch_size = 32\n",
    "\n",
    "print(f\"cnn_input  = {cnn_input}\")\n",
    "print(f\"cnn_output = {cnn_output}\")\n",
    "print(f\"batch_size = {batch_size}\")"
   ]
  },
  {
   "cell_type": "code",
   "execution_count": 492,
   "metadata": {},
   "outputs": [],
   "source": [
    "model = Sequential()\n",
    "\n",
    "model.add(Conv2D(16, (7,7), activation = 'tanh', name = 'conv1', input_shape = cnn_input, \n",
    "                 kernel_regularizer=l2(0.005)))\n",
    "model.add(MaxPooling2D(pool_size=(2,2), strides=(1,1), name='maxpool1'))\n",
    "\n",
    "# model.add(Conv2D(32, (5,5), activation='tanh', name='conv2'))\n",
    "# model.add(MaxPooling2D(pool_size=(2,2), strides=(1,1), name='maxpool2'))\n",
    "\n",
    "# model.add(Conv2D(64, (3,3), activation='tanh', name='conv3'))\n",
    "# model.add(MaxPooling2D(pool_size=(2,2), name='maxpool3'))\n",
    "\n",
    "model.add(Flatten(name='flat4'))\n",
    "model.add(Dropout(0.5, name='drop4'))\n",
    "model.add(Dense(1024, activation='tanh', name='dense4'))\n",
    "\n",
    "model.add(Dense(cnn_output, activation='sigmoid', name='softmax'))"
   ]
  },
  {
   "cell_type": "code",
   "execution_count": 493,
   "metadata": {},
   "outputs": [
    {
     "name": "stdout",
     "output_type": "stream",
     "text": [
      "_________________________________________________________________\n",
      "Layer (type)                 Output Shape              Param #   \n",
      "=================================================================\n",
      "conv1 (Conv2D)               (None, 15, 71, 16)        800       \n",
      "_________________________________________________________________\n",
      "maxpool1 (MaxPooling2D)      (None, 14, 70, 16)        0         \n",
      "_________________________________________________________________\n",
      "flat4 (Flatten)              (None, 15680)             0         \n",
      "_________________________________________________________________\n",
      "drop4 (Dropout)              (None, 15680)             0         \n",
      "_________________________________________________________________\n",
      "dense4 (Dense)               (None, 1024)              16057344  \n",
      "_________________________________________________________________\n",
      "softmax (Dense)              (None, 1)                 1025      \n",
      "=================================================================\n",
      "Total params: 16,059,169\n",
      "Trainable params: 16,059,169\n",
      "Non-trainable params: 0\n",
      "_________________________________________________________________\n"
     ]
    }
   ],
   "source": [
    "model.summary()"
   ]
  },
  {
   "cell_type": "code",
   "execution_count": 494,
   "metadata": {},
   "outputs": [],
   "source": [
    "optim = opt.SGD(lr = 0.001, decay = 1e-6, momentum = 0.5, nesterov=True)\n",
    "model.compile(loss='binary_crossentropy', optimizer=optim, metrics=['accuracy'])"
   ]
  },
  {
   "cell_type": "code",
   "execution_count": 495,
   "metadata": {
    "scrolled": true
   },
   "outputs": [
    {
     "name": "stdout",
     "output_type": "stream",
     "text": [
      "Train on 1107 samples, validate on 369 samples\n",
      "Epoch 1/100\n",
      " - 3s - loss: 0.6421 - acc: 0.6694 - val_loss: 0.5847 - val_acc: 0.7100\n",
      "Epoch 2/100\n",
      " - 0s - loss: 0.5722 - acc: 0.7335 - val_loss: 0.4713 - val_acc: 0.7805\n",
      "Epoch 3/100\n",
      " - 0s - loss: 0.4911 - acc: 0.7751 - val_loss: 0.4246 - val_acc: 0.8266\n",
      "Epoch 4/100\n",
      " - 0s - loss: 0.4227 - acc: 0.8157 - val_loss: 0.4299 - val_acc: 0.8211\n",
      "Epoch 5/100\n",
      " - 0s - loss: 0.4003 - acc: 0.8293 - val_loss: 0.4218 - val_acc: 0.8022\n",
      "Epoch 6/100\n",
      " - 0s - loss: 0.4139 - acc: 0.8103 - val_loss: 0.4093 - val_acc: 0.8266\n",
      "Epoch 7/100\n",
      " - 0s - loss: 0.3924 - acc: 0.8356 - val_loss: 0.4165 - val_acc: 0.8211\n",
      "Epoch 8/100\n",
      " - 0s - loss: 0.3287 - acc: 0.8681 - val_loss: 0.3883 - val_acc: 0.8266\n",
      "Epoch 9/100\n",
      " - 0s - loss: 0.3164 - acc: 0.8753 - val_loss: 0.3346 - val_acc: 0.8672\n",
      "Epoch 10/100\n",
      " - 0s - loss: 0.3274 - acc: 0.8690 - val_loss: 0.3390 - val_acc: 0.8753\n",
      "Epoch 11/100\n",
      " - 0s - loss: 0.2932 - acc: 0.8853 - val_loss: 0.3463 - val_acc: 0.8564\n",
      "Epoch 12/100\n",
      " - 0s - loss: 0.3007 - acc: 0.8871 - val_loss: 0.3493 - val_acc: 0.8591\n",
      "Epoch 13/100\n",
      " - 0s - loss: 0.2735 - acc: 0.9006 - val_loss: 0.3449 - val_acc: 0.8726\n",
      "Epoch 14/100\n",
      " - 0s - loss: 0.2772 - acc: 0.8979 - val_loss: 0.3446 - val_acc: 0.8645\n",
      "Epoch 15/100\n",
      " - 0s - loss: 0.2554 - acc: 0.9015 - val_loss: 0.3290 - val_acc: 0.8780\n",
      "Epoch 16/100\n",
      " - 0s - loss: 0.2424 - acc: 0.9124 - val_loss: 0.3804 - val_acc: 0.8591\n",
      "Epoch 17/100\n",
      " - 0s - loss: 0.2256 - acc: 0.9223 - val_loss: 0.3327 - val_acc: 0.8564\n",
      "Epoch 18/100\n",
      " - 0s - loss: 0.2431 - acc: 0.9088 - val_loss: 0.3524 - val_acc: 0.8780\n",
      "Epoch 19/100\n",
      " - 0s - loss: 0.2303 - acc: 0.9097 - val_loss: 0.3281 - val_acc: 0.8672\n",
      "Epoch 20/100\n",
      " - 0s - loss: 0.2256 - acc: 0.9250 - val_loss: 0.3109 - val_acc: 0.8835\n",
      "Epoch 21/100\n",
      " - 0s - loss: 0.2037 - acc: 0.9304 - val_loss: 0.3190 - val_acc: 0.8889\n",
      "Epoch 22/100\n",
      " - 0s - loss: 0.2236 - acc: 0.9187 - val_loss: 0.3238 - val_acc: 0.8835\n",
      "Epoch 23/100\n",
      " - 0s - loss: 0.2087 - acc: 0.9295 - val_loss: 0.3535 - val_acc: 0.8943\n",
      "Epoch 24/100\n",
      " - 0s - loss: 0.1949 - acc: 0.9277 - val_loss: 0.3219 - val_acc: 0.8943\n",
      "Epoch 25/100\n",
      " - 0s - loss: 0.1759 - acc: 0.9503 - val_loss: 0.3096 - val_acc: 0.8997\n",
      "Epoch 26/100\n",
      " - 0s - loss: 0.1865 - acc: 0.9332 - val_loss: 0.3162 - val_acc: 0.8943\n",
      "Epoch 27/100\n",
      " - 0s - loss: 0.1789 - acc: 0.9377 - val_loss: 0.3053 - val_acc: 0.8997\n",
      "Epoch 28/100\n",
      " - 0s - loss: 0.1867 - acc: 0.9377 - val_loss: 0.2995 - val_acc: 0.8943\n",
      "Epoch 29/100\n",
      " - 0s - loss: 0.1755 - acc: 0.9395 - val_loss: 0.2980 - val_acc: 0.8808\n",
      "Epoch 30/100\n",
      " - 0s - loss: 0.1683 - acc: 0.9440 - val_loss: 0.2881 - val_acc: 0.8970\n",
      "Epoch 31/100\n",
      " - 0s - loss: 0.1710 - acc: 0.9458 - val_loss: 0.3005 - val_acc: 0.8970\n",
      "Epoch 32/100\n",
      " - 0s - loss: 0.1671 - acc: 0.9467 - val_loss: 0.3081 - val_acc: 0.8997\n",
      "Epoch 33/100\n",
      " - 0s - loss: 0.1541 - acc: 0.9557 - val_loss: 0.2883 - val_acc: 0.9024\n",
      "Epoch 34/100\n",
      " - 0s - loss: 0.1559 - acc: 0.9512 - val_loss: 0.2735 - val_acc: 0.8943\n",
      "Epoch 35/100\n",
      " - 0s - loss: 0.1637 - acc: 0.9377 - val_loss: 0.3056 - val_acc: 0.8997\n",
      "Epoch 36/100\n",
      " - 0s - loss: 0.1582 - acc: 0.9458 - val_loss: 0.2966 - val_acc: 0.9051\n",
      "Epoch 37/100\n",
      " - 0s - loss: 0.1515 - acc: 0.9476 - val_loss: 0.2991 - val_acc: 0.9051\n",
      "Epoch 38/100\n",
      " - 0s - loss: 0.1409 - acc: 0.9521 - val_loss: 0.3086 - val_acc: 0.8943\n",
      "Epoch 39/100\n",
      " - 0s - loss: 0.1551 - acc: 0.9539 - val_loss: 0.3034 - val_acc: 0.9133\n",
      "Epoch 40/100\n",
      " - 0s - loss: 0.1339 - acc: 0.9621 - val_loss: 0.2987 - val_acc: 0.9024\n",
      "Epoch 41/100\n",
      " - 0s - loss: 0.1302 - acc: 0.9593 - val_loss: 0.2978 - val_acc: 0.9106\n",
      "Epoch 42/100\n",
      " - 0s - loss: 0.1190 - acc: 0.9711 - val_loss: 0.2799 - val_acc: 0.9051\n",
      "Epoch 43/100\n",
      " - 0s - loss: 0.1302 - acc: 0.9593 - val_loss: 0.2869 - val_acc: 0.9187\n",
      "Epoch 44/100\n",
      " - 0s - loss: 0.1313 - acc: 0.9621 - val_loss: 0.2783 - val_acc: 0.9268\n",
      "Epoch 45/100\n",
      " - 0s - loss: 0.1200 - acc: 0.9657 - val_loss: 0.3228 - val_acc: 0.8970\n",
      "Epoch 46/100\n",
      " - 0s - loss: 0.1451 - acc: 0.9603 - val_loss: 0.2892 - val_acc: 0.9106\n",
      "Epoch 47/100\n",
      " - 0s - loss: 0.1289 - acc: 0.9548 - val_loss: 0.2781 - val_acc: 0.9106\n",
      "Epoch 48/100\n",
      " - 0s - loss: 0.1358 - acc: 0.9575 - val_loss: 0.2970 - val_acc: 0.8970\n",
      "Epoch 49/100\n",
      " - 0s - loss: 0.1257 - acc: 0.9675 - val_loss: 0.3080 - val_acc: 0.9133\n",
      "Epoch 50/100\n",
      " - 0s - loss: 0.1271 - acc: 0.9603 - val_loss: 0.2843 - val_acc: 0.9160\n",
      "Epoch 51/100\n",
      " - 0s - loss: 0.1241 - acc: 0.9648 - val_loss: 0.3020 - val_acc: 0.9106\n",
      "Epoch 52/100\n",
      " - 0s - loss: 0.1127 - acc: 0.9693 - val_loss: 0.2833 - val_acc: 0.9160\n",
      "Epoch 53/100\n",
      " - 0s - loss: 0.1117 - acc: 0.9657 - val_loss: 0.2843 - val_acc: 0.9133\n",
      "Epoch 54/100\n",
      " - 0s - loss: 0.1070 - acc: 0.9702 - val_loss: 0.2799 - val_acc: 0.9214\n",
      "Epoch 55/100\n",
      " - 0s - loss: 0.1034 - acc: 0.9729 - val_loss: 0.3012 - val_acc: 0.9187\n",
      "Epoch 56/100\n",
      " - 0s - loss: 0.1105 - acc: 0.9666 - val_loss: 0.3117 - val_acc: 0.9160\n",
      "Epoch 57/100\n",
      " - 0s - loss: 0.1094 - acc: 0.9684 - val_loss: 0.3080 - val_acc: 0.9133\n",
      "Epoch 58/100\n",
      " - 0s - loss: 0.1061 - acc: 0.9729 - val_loss: 0.2897 - val_acc: 0.9106\n",
      "Epoch 59/100\n",
      " - 0s - loss: 0.1106 - acc: 0.9711 - val_loss: 0.2931 - val_acc: 0.9187\n",
      "Epoch 60/100\n",
      " - 0s - loss: 0.1007 - acc: 0.9729 - val_loss: 0.2907 - val_acc: 0.9214\n",
      "Epoch 61/100\n",
      " - 0s - loss: 0.1006 - acc: 0.9720 - val_loss: 0.2896 - val_acc: 0.9214\n",
      "Epoch 62/100\n",
      " - 0s - loss: 0.0869 - acc: 0.9837 - val_loss: 0.2920 - val_acc: 0.9214\n",
      "Epoch 63/100\n",
      " - 0s - loss: 0.0954 - acc: 0.9774 - val_loss: 0.2952 - val_acc: 0.9160\n",
      "Epoch 64/100\n",
      " - 0s - loss: 0.0900 - acc: 0.9765 - val_loss: 0.2804 - val_acc: 0.9241\n",
      "Epoch 65/100\n",
      " - 0s - loss: 0.0867 - acc: 0.9819 - val_loss: 0.3013 - val_acc: 0.9214\n",
      "Epoch 66/100\n",
      " - 0s - loss: 0.0849 - acc: 0.9801 - val_loss: 0.2835 - val_acc: 0.9214\n",
      "Epoch 67/100\n",
      " - 0s - loss: 0.0816 - acc: 0.9810 - val_loss: 0.3130 - val_acc: 0.8943\n",
      "Epoch 68/100\n",
      " - 0s - loss: 0.0829 - acc: 0.9783 - val_loss: 0.3093 - val_acc: 0.8997\n",
      "Epoch 69/100\n",
      " - 0s - loss: 0.0951 - acc: 0.9729 - val_loss: 0.2867 - val_acc: 0.9160\n",
      "Epoch 70/100\n",
      " - 0s - loss: 0.0953 - acc: 0.9738 - val_loss: 0.2750 - val_acc: 0.9241\n",
      "Epoch 71/100\n",
      " - 0s - loss: 0.0908 - acc: 0.9747 - val_loss: 0.2737 - val_acc: 0.9133\n",
      "Epoch 72/100\n",
      " - 0s - loss: 0.0792 - acc: 0.9801 - val_loss: 0.2842 - val_acc: 0.9241\n",
      "Epoch 73/100\n",
      " - 0s - loss: 0.0869 - acc: 0.9774 - val_loss: 0.2829 - val_acc: 0.9295\n",
      "Epoch 74/100\n",
      " - 0s - loss: 0.0825 - acc: 0.9828 - val_loss: 0.2894 - val_acc: 0.9241\n",
      "Epoch 75/100\n",
      " - 0s - loss: 0.0841 - acc: 0.9792 - val_loss: 0.2766 - val_acc: 0.9295\n",
      "Epoch 76/100\n",
      " - 0s - loss: 0.0678 - acc: 0.9874 - val_loss: 0.2946 - val_acc: 0.9322\n",
      "Epoch 77/100\n",
      " - 0s - loss: 0.0697 - acc: 0.9819 - val_loss: 0.2904 - val_acc: 0.9322\n",
      "Epoch 78/100\n",
      " - 0s - loss: 0.0779 - acc: 0.9792 - val_loss: 0.2786 - val_acc: 0.9268\n",
      "Epoch 79/100\n",
      " - 0s - loss: 0.0661 - acc: 0.9874 - val_loss: 0.2858 - val_acc: 0.9350\n",
      "Epoch 80/100\n",
      " - 0s - loss: 0.0751 - acc: 0.9855 - val_loss: 0.2849 - val_acc: 0.9322\n",
      "Epoch 81/100\n",
      " - 0s - loss: 0.0665 - acc: 0.9810 - val_loss: 0.2984 - val_acc: 0.9241\n",
      "Epoch 82/100\n",
      " - 0s - loss: 0.0668 - acc: 0.9864 - val_loss: 0.3139 - val_acc: 0.9106\n",
      "Epoch 83/100\n",
      " - 0s - loss: 0.0712 - acc: 0.9883 - val_loss: 0.3051 - val_acc: 0.9160\n",
      "Epoch 84/100\n",
      " - 0s - loss: 0.0752 - acc: 0.9819 - val_loss: 0.2877 - val_acc: 0.9377\n",
      "Epoch 85/100\n",
      " - 0s - loss: 0.0693 - acc: 0.9828 - val_loss: 0.2898 - val_acc: 0.9241\n",
      "Epoch 86/100\n",
      " - 0s - loss: 0.0641 - acc: 0.9864 - val_loss: 0.3106 - val_acc: 0.9106\n",
      "Epoch 87/100\n",
      " - 0s - loss: 0.0712 - acc: 0.9819 - val_loss: 0.3020 - val_acc: 0.9241\n",
      "Epoch 88/100\n",
      " - 0s - loss: 0.0658 - acc: 0.9883 - val_loss: 0.3035 - val_acc: 0.9214\n",
      "Epoch 89/100\n",
      " - 0s - loss: 0.0589 - acc: 0.9892 - val_loss: 0.2917 - val_acc: 0.9214\n",
      "Epoch 90/100\n",
      " - 0s - loss: 0.0611 - acc: 0.9946 - val_loss: 0.2953 - val_acc: 0.9133\n",
      "Epoch 91/100\n",
      " - 0s - loss: 0.0615 - acc: 0.9837 - val_loss: 0.3005 - val_acc: 0.9187\n",
      "Epoch 92/100\n",
      " - 0s - loss: 0.0557 - acc: 0.9946 - val_loss: 0.3093 - val_acc: 0.9160\n",
      "Epoch 93/100\n",
      " - 0s - loss: 0.0665 - acc: 0.9883 - val_loss: 0.2995 - val_acc: 0.9241\n",
      "Epoch 94/100\n",
      " - 0s - loss: 0.0655 - acc: 0.9864 - val_loss: 0.2991 - val_acc: 0.9241\n",
      "Epoch 95/100\n",
      " - 0s - loss: 0.0532 - acc: 0.9910 - val_loss: 0.2954 - val_acc: 0.9241\n",
      "Epoch 96/100\n",
      " - 0s - loss: 0.0582 - acc: 0.9901 - val_loss: 0.2899 - val_acc: 0.9322\n"
     ]
    },
    {
     "name": "stdout",
     "output_type": "stream",
     "text": [
      "Epoch 97/100\n",
      " - 0s - loss: 0.0593 - acc: 0.9928 - val_loss: 0.3104 - val_acc: 0.9241\n",
      "Epoch 98/100\n",
      " - 0s - loss: 0.0655 - acc: 0.9846 - val_loss: 0.2984 - val_acc: 0.9241\n",
      "Epoch 99/100\n",
      " - 0s - loss: 0.0547 - acc: 0.9937 - val_loss: 0.2993 - val_acc: 0.9241\n",
      "Epoch 100/100\n",
      " - 0s - loss: 0.0599 - acc: 0.9892 - val_loss: 0.3082 - val_acc: 0.9322\n"
     ]
    }
   ],
   "source": [
    "log = model.fit(x_train, y_train, batch_size = batch_size, epochs = 100, \n",
    "          verbose = 2, validation_data=(x_valid, y_valid))"
   ]
  },
  {
   "cell_type": "code",
   "execution_count": 497,
   "metadata": {},
   "outputs": [
    {
     "name": "stdout",
     "output_type": "stream",
     "text": [
      "369/369 [==============================] - 0s 104us/step\n",
      "Testing:\n",
      "loss = 0.2387394445940731\n",
      "acc = 0.9322493226547551\n"
     ]
    }
   ],
   "source": [
    "result = model.evaluate(x_test, y_test)\n",
    "print('Testing:')\n",
    "print('\\n'.join('{} = {}'.format(*k) for k in zip(model.metrics_names, result)))"
   ]
  },
  {
   "cell_type": "code",
   "execution_count": 498,
   "metadata": {},
   "outputs": [
    {
     "data": {
      "image/png": "[encoded data removed]",
      "text/plain": [
       "<Figure size 1080x576 with 2 Axes>"
      ]
     },
     "metadata": {},
     "output_type": "display_data"
    }
   ],
   "source": [
    "plt.rcParams['figure.figsize'] = (15, 8)\n",
    "\n",
    "plt.plot(log.history['acc'], label = 'mokymo')\n",
    "plt.plot(log.history['val_acc'], label = 'validavimo')\n",
    "plt.ylabel('tikslumas')\n",
    "plt.xlabel('epocha')\n",
    "plt.legend() #['mokymo', 'testavimo'])\n",
    "\n",
    "ax2 = plt.twinx()\n",
    "ax2.plot(log.history['loss'], '--', label = 'mokymo')\n",
    "ax2.plot(log.history['val_loss'], '--', label = 'validavimo')\n",
    "ax2.set_ylabel('netektis')\n",
    "#plt.title('model accuracy')\n",
    "plt.show()\n",
    "\n",
    "#joblib.dump(model, os.path.join(OUTPUT_FOLDER,f'nn_{h}_veg.pkl'))"
   ]
  },
  {
   "cell_type": "code",
   "execution_count": 499,
   "metadata": {},
   "outputs": [
    {
     "data": {
      "text/plain": [
       "array([[246,   9],\n",
       "       [ 16,  98]])"
      ]
     },
     "execution_count": 499,
     "metadata": {},
     "output_type": "execute_result"
    }
   ],
   "source": [
    "confusion_matrix(y_test, model.predict_classes(x_test))"
   ]
  },
  {
   "cell_type": "code",
   "execution_count": null,
   "metadata": {},
   "outputs": [],
   "source": []
  }
 ],
 "metadata": {
  "kernelspec": {
   "display_name": "Python3",
   "language": "python",
   "name": "python3"
  },
  "language_info": {
   "codemirror_mode": {
    "name": "ipython",
    "version": 3
   },
   "file_extension": ".py",
   "mimetype": "text/x-python",
   "name": "python",
   "nbconvert_exporter": "python",
   "pygments_lexer": "ipython3",
   "version": "3.6.5"
  }
 },
 "nbformat": 4,
 "nbformat_minor": 2
}
