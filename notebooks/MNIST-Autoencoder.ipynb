{
 "cells": [
  {
   "cell_type": "code",
   "execution_count": 3,
   "metadata": {},
   "outputs": [],
   "source": [
    "import numpy as np\n",
    "import os\n",
    "import matplotlib.pyplot as plt"
   ]
  },
  {
   "cell_type": "code",
   "execution_count": 4,
   "metadata": {},
   "outputs": [],
   "source": [
    "# load MNIST dataset\n",
    "import urllib, gzip, pickle\n",
    "\n",
    "mnistfile = 'mnist.pkl.gz'\n",
    "if not os.path.isfile(mnistfile):\n",
    "    url = urllib.request.URLopener()\n",
    "    url.retrieve(\"http://deeplearning.net/data/mnist/mnist.pkl.gz\", mnistfile)\n",
    "f = gzip.open(mnistfile, 'rb')\n",
    "\n",
    "training_set, validation_set, testing_set = pickle.load(f, encoding='latin1')\n",
    "\n",
    "f.close()\n",
    "\n",
    "X_train,    y_train    = training_set\n",
    "X_validate, y_validate = validation_set\n",
    "X_test,     y_test     = testing_set"
   ]
  },
  {
   "cell_type": "code",
   "execution_count": 5,
   "metadata": {},
   "outputs": [],
   "source": [
    "def reshape_mnist(vectors):\n",
    "    images = np.reshape(vectors, (-1,28,28,1))\n",
    "    return images"
   ]
  },
  {
   "cell_type": "code",
   "execution_count": 6,
   "metadata": {},
   "outputs": [],
   "source": [
    "X_train    = reshape_mnist(X_train)\n",
    "X_validate = reshape_mnist(X_validate)\n",
    "X_test     = reshape_mnist(X_test)"
   ]
  },
  {
   "cell_type": "code",
   "execution_count": 7,
   "metadata": {},
   "outputs": [],
   "source": [
    "def plot_many(images, n=[2,6]):\n",
    "    plt.figure(figsize=(12,4))\n",
    "    for i in range(n[0]):\n",
    "        for j in range(n[1]):\n",
    "            plt.subplot(n[0], n[1], j*n[0]+i+1)\n",
    "            plt.imshow(images[np.random.randint(0, images.shape[0]-1),:,:,0], cmap=plt.get_cmap(\"Greys\"))\n",
    "            plt.axis('off')"
   ]
  },
  {
   "cell_type": "code",
   "execution_count": 8,
   "metadata": {},
   "outputs": [
    {
     "data": {
      "image/png": "[encoded data removed]",
      "text/plain": [
       "<Figure size 864x288 with 12 Axes>"
      ]
     },
     "metadata": {
      "needs_background": "light"
     },
     "output_type": "display_data"
    }
   ],
   "source": [
    "plot_many(X_train)"
   ]
  },
  {
   "cell_type": "code",
   "execution_count": 15,
   "metadata": {},
   "outputs": [],
   "source": [
    "\"\"\"\n",
    "An implementation of a convolutional autoencoder (CAE) using Keras.\n",
    "Jason M. Manley, 2018\n",
    "jmanley@rockefeller.edu\n",
    "\"\"\"\n",
    "\n",
    "import os\n",
    "import keras\n",
    "import numpy as np\n",
    "\n",
    "class ConvAutoEncoder:\n",
    "\n",
    "    def __init__(self, input_shape, output_dim, filters=[32, 64, 128, 256],\n",
    "                 kernel=(3,3), stride=(1,1), strideundo=2, pool=(2,2),\n",
    "                 optimizer=\"adamax\", lossfn=\"mse\"):\n",
    "        # For now, assuming input_shape is mxnxc, and m,n are multiples of 2.\n",
    "\n",
    "        self.input_shape = input_shape\n",
    "        self.output_dim  = output_dim\n",
    "\n",
    "        # define encoder architecture\n",
    "        self.encoder = keras.models.Sequential()\n",
    "        self.encoder.add(keras.layers.InputLayer(input_shape))\n",
    "        for i in range(len(filters)):\n",
    "            self.encoder.add(keras.layers.Conv2D(filters=filters[i], kernel_size=kernel, \n",
    "                                                 strides=stride, activation='elu', padding='same'))\n",
    "            self.encoder.add(keras.layers.MaxPooling2D(pool_size=pool))\n",
    "        self.encoder.add(keras.layers.Flatten())\n",
    "        self.encoder.add(keras.layers.Dense(output_dim))\n",
    "\n",
    "        # define decoder architecture\n",
    "        self.decoder = keras.models.Sequential()\n",
    "        self.decoder.add(keras.layers.InputLayer((output_dim,)))\n",
    "        \n",
    "        self.decoder.add(keras.layers.Dense((int(input_shape[0]/(2**(len(filters)))) *\n",
    "                                               int(input_shape[1]/(2**(len(filters)))) * filters[len(filters)-1])))\n",
    "        self.decoder.add(keras.layers.Reshape((int(input_shape[0]/(2**(len(filters)))),\n",
    "                                               int(input_shape[1]/(2**(len(filters)))), filters[len(filters)-1])))\n",
    "        for i in range(1,len(filters)):\n",
    "            self.decoder.add(keras.layers.Conv2DTranspose(filters=filters[len(filters)-i], kernel_size=kernel, \n",
    "                                                          strides=strideundo, activation='elu', padding='same'))\n",
    "        self.decoder.add(    keras.layers.Conv2DTranspose(filters=input_shape[2],          kernel_size=kernel, \n",
    "                                                          strides=strideundo, activation=None,  padding='same'))\n",
    "\n",
    "        # compile model\n",
    "        input         = keras.layers.Input(input_shape)\n",
    "        code          = self.encoder(input)\n",
    "        reconstructed = self.decoder(code)\n",
    "\n",
    "        self.ae = keras.models.Model(inputs=input, outputs=reconstructed)\n",
    "        self.ae.compile(optimizer=optimizer, loss=lossfn)\n",
    "\n",
    "\n",
    "    def fit(self, train, test, epochs=25, callbacks=[keras.callbacks.BaseLogger()]):\n",
    "\n",
    "        self.ae.fit(x=train, y=train, epochs=epochs, validation_data=[test, test],\n",
    "                    callbacks=callbacks)\n",
    "\n",
    "        self.mse = self.ae.evaluate(test, test)\n",
    "        print('CAE MSE on validation data: ', self.mse)\n",
    "\n",
    "\n",
    "    def save_weights(self, path=None, prefix=\"\"):\n",
    "        if path is None: path = os.getcwd()\n",
    "        self.encoder.save_weights(os.path.join(path, prefix + \"encoder_weights.h5\"))\n",
    "        self.decoder.save_weights(os.path.join(path, prefix + \"decoder_weights.h5\"))\n",
    "\n",
    "\n",
    "    def load_weights(self, path=None, prefix=\"\"):\n",
    "        if path is None: path = os.getcwd()\n",
    "        self.encoder.load_weights(os.path.join(path, prefix + \"encoder_weights.h5\"))\n",
    "        self.decoder.load_weights(os.path.join(path, prefix + \"decoder_weights.h5\"))\n",
    "\n",
    "\n",
    "    def encode(self, input):\n",
    "        return self.encoder.predict(input)\n",
    "\n",
    "\n",
    "    def decode(self, codes):\n",
    "        return self.decoder.predict(codes)"
   ]
  },
  {
   "cell_type": "code",
   "execution_count": 19,
   "metadata": {},
   "outputs": [],
   "source": [
    "# initialize ConvAutoEncoder model\n",
    "cae = ConvAutoEncoder(input_shape=(X_train.shape[1], X_train.shape[2],1),\n",
    "                      output_dim=10, filters=[32,64], pool=(3,3))"
   ]
  },
  {
   "cell_type": "code",
   "execution_count": 20,
   "metadata": {},
   "outputs": [
    {
     "name": "stdout",
     "output_type": "stream",
     "text": [
      "(50000, 28, 28, 1)\n"
     ]
    }
   ],
   "source": [
    "print(X_train.shape)"
   ]
  },
  {
   "cell_type": "code",
   "execution_count": 21,
   "metadata": {},
   "outputs": [
    {
     "name": "stdout",
     "output_type": "stream",
     "text": [
      "_________________________________________________________________\n",
      "Layer (type)                 Output Shape              Param #   \n",
      "=================================================================\n",
      "conv2d_7 (Conv2D)            (None, 28, 28, 32)        320       \n",
      "_________________________________________________________________\n",
      "max_pooling2d_7 (MaxPooling2 (None, 9, 9, 32)          0         \n",
      "_________________________________________________________________\n",
      "conv2d_8 (Conv2D)            (None, 9, 9, 64)          18496     \n",
      "_________________________________________________________________\n",
      "max_pooling2d_8 (MaxPooling2 (None, 3, 3, 64)          0         \n",
      "_________________________________________________________________\n",
      "flatten_4 (Flatten)          (None, 576)               0         \n",
      "_________________________________________________________________\n",
      "dense_7 (Dense)              (None, 10)                5770      \n",
      "=================================================================\n",
      "Total params: 24,586\n",
      "Trainable params: 24,586\n",
      "Non-trainable params: 0\n",
      "_________________________________________________________________\n",
      "_________________________________________________________________\n",
      "Layer (type)                 Output Shape              Param #   \n",
      "=================================================================\n",
      "dense_8 (Dense)              (None, 3136)              34496     \n",
      "_________________________________________________________________\n",
      "reshape_4 (Reshape)          (None, 7, 7, 64)          0         \n",
      "_________________________________________________________________\n",
      "conv2d_transpose_7 (Conv2DTr (None, 14, 14, 64)        36928     \n",
      "_________________________________________________________________\n",
      "conv2d_transpose_8 (Conv2DTr (None, 28, 28, 1)         577       \n",
      "=================================================================\n",
      "Total params: 72,001\n",
      "Trainable params: 72,001\n",
      "Non-trainable params: 0\n",
      "_________________________________________________________________\n",
      "_________________________________________________________________\n",
      "Layer (type)                 Output Shape              Param #   \n",
      "=================================================================\n",
      "input_12 (InputLayer)        (None, 28, 28, 1)         0         \n",
      "_________________________________________________________________\n",
      "sequential_7 (Sequential)    (None, 10)                24586     \n",
      "_________________________________________________________________\n",
      "sequential_8 (Sequential)    (None, 28, 28, 1)         72001     \n",
      "=================================================================\n",
      "Total params: 96,587\n",
      "Trainable params: 96,587\n",
      "Non-trainable params: 0\n",
      "_________________________________________________________________\n"
     ]
    }
   ],
   "source": [
    "cae.encoder.summary()\n",
    "cae.decoder.summary()\n",
    "cae.ae.summary()"
   ]
  },
  {
   "cell_type": "code",
   "execution_count": null,
   "metadata": {},
   "outputs": [],
   "source": [
    "# fit to training, validation data\n",
    "cae.fit(X_train, X_validate, epochs=20)\n",
    "cae.save_weights()"
   ]
  }
 ],
 "metadata": {
  "kernelspec": {
   "display_name": "eeg-spikes",
   "language": "python",
   "name": "eeg-spikes"
  },
  "language_info": {
   "codemirror_mode": {
    "name": "ipython",
    "version": 3
   },
   "file_extension": ".py",
   "mimetype": "text/x-python",
   "name": "python",
   "nbconvert_exporter": "python",
   "pygments_lexer": "ipython3",
   "version": "3.6.7"
  }
 },
 "nbformat": 4,
 "nbformat_minor": 2
}
